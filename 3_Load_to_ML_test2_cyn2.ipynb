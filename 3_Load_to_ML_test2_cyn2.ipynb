{
 "cells": [
  {
   "cell_type": "code",
   "execution_count": 5,
   "metadata": {},
   "outputs": [],
   "source": [
    "import pandas as pd\n",
    "# import matplotlib.pylab as plt\n",
    "import matplotlib.pyplot as plt\n",
    "from datetime import datetime\n",
    "%matplotlib inline\n",
    "import numpy as np"
   ]
  },
  {
   "cell_type": "code",
   "execution_count": 8,
   "metadata": {},
   "outputs": [],
   "source": [
    "#MLR based on resp.desease"
   ]
  },
  {
   "cell_type": "code",
   "execution_count": 9,
   "metadata": {},
   "outputs": [
    {
     "data": {
      "text/html": [
       "<div>\n",
       "<style scoped>\n",
       "    .dataframe tbody tr th:only-of-type {\n",
       "        vertical-align: middle;\n",
       "    }\n",
       "\n",
       "    .dataframe tbody tr th {\n",
       "        vertical-align: top;\n",
       "    }\n",
       "\n",
       "    .dataframe thead th {\n",
       "        text-align: right;\n",
       "    }\n",
       "</style>\n",
       "<table border=\"1\" class=\"dataframe\">\n",
       "  <thead>\n",
       "    <tr style=\"text-align: right;\">\n",
       "      <th></th>\n",
       "      <th>Unnamed: 0</th>\n",
       "      <th>Booking_year_month</th>\n",
       "      <th>DOB_month</th>\n",
       "      <th>total_crime</th>\n",
       "      <th>total_crime_3</th>\n",
       "      <th>age&lt;25_3</th>\n",
       "      <th>age26-50_3</th>\n",
       "      <th>age&gt;50_3</th>\n",
       "      <th>day_of_week_Monday_3</th>\n",
       "      <th>day_of_week_Tuesday_3</th>\n",
       "      <th>...</th>\n",
       "      <th>day_of_week_Friday_1</th>\n",
       "      <th>day_of_week_Saturday_1</th>\n",
       "      <th>day_of_week_Sunday_1</th>\n",
       "      <th>summer_1</th>\n",
       "      <th>spring_1</th>\n",
       "      <th>winter_1</th>\n",
       "      <th>autum_1</th>\n",
       "      <th>CityRN_FOREIGN_1</th>\n",
       "      <th>CityRN_HOMELESS_1</th>\n",
       "      <th>CityRN_MIAMI_1</th>\n",
       "    </tr>\n",
       "  </thead>\n",
       "  <tbody>\n",
       "    <tr>\n",
       "      <th>0</th>\n",
       "      <td>3</td>\n",
       "      <td>2015-08</td>\n",
       "      <td>1013</td>\n",
       "      <td>153</td>\n",
       "      <td>14.0</td>\n",
       "      <td>3.0</td>\n",
       "      <td>7.0</td>\n",
       "      <td>4.0</td>\n",
       "      <td>0.0</td>\n",
       "      <td>0.0</td>\n",
       "      <td>...</td>\n",
       "      <td>23.0</td>\n",
       "      <td>21.0</td>\n",
       "      <td>14.0</td>\n",
       "      <td>142.0</td>\n",
       "      <td>0.0</td>\n",
       "      <td>0.0</td>\n",
       "      <td>0.0</td>\n",
       "      <td>13.0</td>\n",
       "      <td>52.0</td>\n",
       "      <td>77.0</td>\n",
       "    </tr>\n",
       "    <tr>\n",
       "      <th>1</th>\n",
       "      <td>4</td>\n",
       "      <td>2015-09</td>\n",
       "      <td>803</td>\n",
       "      <td>121</td>\n",
       "      <td>132.0</td>\n",
       "      <td>13.0</td>\n",
       "      <td>91.0</td>\n",
       "      <td>28.0</td>\n",
       "      <td>22.0</td>\n",
       "      <td>13.0</td>\n",
       "      <td>...</td>\n",
       "      <td>18.0</td>\n",
       "      <td>22.0</td>\n",
       "      <td>32.0</td>\n",
       "      <td>153.0</td>\n",
       "      <td>0.0</td>\n",
       "      <td>0.0</td>\n",
       "      <td>0.0</td>\n",
       "      <td>14.0</td>\n",
       "      <td>43.0</td>\n",
       "      <td>96.0</td>\n",
       "    </tr>\n",
       "    <tr>\n",
       "      <th>2</th>\n",
       "      <td>5</td>\n",
       "      <td>2015-10</td>\n",
       "      <td>1057</td>\n",
       "      <td>156</td>\n",
       "      <td>142.0</td>\n",
       "      <td>18.0</td>\n",
       "      <td>92.0</td>\n",
       "      <td>32.0</td>\n",
       "      <td>14.0</td>\n",
       "      <td>13.0</td>\n",
       "      <td>...</td>\n",
       "      <td>13.0</td>\n",
       "      <td>10.0</td>\n",
       "      <td>16.0</td>\n",
       "      <td>121.0</td>\n",
       "      <td>0.0</td>\n",
       "      <td>0.0</td>\n",
       "      <td>0.0</td>\n",
       "      <td>11.0</td>\n",
       "      <td>44.0</td>\n",
       "      <td>66.0</td>\n",
       "    </tr>\n",
       "    <tr>\n",
       "      <th>3</th>\n",
       "      <td>6</td>\n",
       "      <td>2015-11</td>\n",
       "      <td>774</td>\n",
       "      <td>114</td>\n",
       "      <td>153.0</td>\n",
       "      <td>15.0</td>\n",
       "      <td>112.0</td>\n",
       "      <td>26.0</td>\n",
       "      <td>24.0</td>\n",
       "      <td>17.0</td>\n",
       "      <td>...</td>\n",
       "      <td>18.0</td>\n",
       "      <td>26.0</td>\n",
       "      <td>23.0</td>\n",
       "      <td>0.0</td>\n",
       "      <td>0.0</td>\n",
       "      <td>0.0</td>\n",
       "      <td>156.0</td>\n",
       "      <td>10.0</td>\n",
       "      <td>46.0</td>\n",
       "      <td>100.0</td>\n",
       "    </tr>\n",
       "    <tr>\n",
       "      <th>4</th>\n",
       "      <td>7</td>\n",
       "      <td>2015-12</td>\n",
       "      <td>891</td>\n",
       "      <td>129</td>\n",
       "      <td>121.0</td>\n",
       "      <td>11.0</td>\n",
       "      <td>84.0</td>\n",
       "      <td>26.0</td>\n",
       "      <td>13.0</td>\n",
       "      <td>22.0</td>\n",
       "      <td>...</td>\n",
       "      <td>13.0</td>\n",
       "      <td>17.0</td>\n",
       "      <td>8.0</td>\n",
       "      <td>0.0</td>\n",
       "      <td>0.0</td>\n",
       "      <td>0.0</td>\n",
       "      <td>114.0</td>\n",
       "      <td>5.0</td>\n",
       "      <td>42.0</td>\n",
       "      <td>67.0</td>\n",
       "    </tr>\n",
       "  </tbody>\n",
       "</table>\n",
       "<p>5 rows × 58 columns</p>\n",
       "</div>"
      ],
      "text/plain": [
       "   Unnamed: 0 Booking_year_month  DOB_month  total_crime  total_crime_3  \\\n",
       "0           3            2015-08       1013          153           14.0   \n",
       "1           4            2015-09        803          121          132.0   \n",
       "2           5            2015-10       1057          156          142.0   \n",
       "3           6            2015-11        774          114          153.0   \n",
       "4           7            2015-12        891          129          121.0   \n",
       "\n",
       "   age<25_3  age26-50_3  age>50_3  day_of_week_Monday_3  \\\n",
       "0       3.0         7.0       4.0                   0.0   \n",
       "1      13.0        91.0      28.0                  22.0   \n",
       "2      18.0        92.0      32.0                  14.0   \n",
       "3      15.0       112.0      26.0                  24.0   \n",
       "4      11.0        84.0      26.0                  13.0   \n",
       "\n",
       "   day_of_week_Tuesday_3       ...        day_of_week_Friday_1  \\\n",
       "0                    0.0       ...                        23.0   \n",
       "1                   13.0       ...                        18.0   \n",
       "2                   13.0       ...                        13.0   \n",
       "3                   17.0       ...                        18.0   \n",
       "4                   22.0       ...                        13.0   \n",
       "\n",
       "   day_of_week_Saturday_1  day_of_week_Sunday_1  summer_1  spring_1  winter_1  \\\n",
       "0                    21.0                  14.0     142.0       0.0       0.0   \n",
       "1                    22.0                  32.0     153.0       0.0       0.0   \n",
       "2                    10.0                  16.0     121.0       0.0       0.0   \n",
       "3                    26.0                  23.0       0.0       0.0       0.0   \n",
       "4                    17.0                   8.0       0.0       0.0       0.0   \n",
       "\n",
       "   autum_1  CityRN_FOREIGN_1  CityRN_HOMELESS_1  CityRN_MIAMI_1  \n",
       "0      0.0              13.0               52.0            77.0  \n",
       "1      0.0              14.0               43.0            96.0  \n",
       "2      0.0              11.0               44.0            66.0  \n",
       "3    156.0              10.0               46.0           100.0  \n",
       "4    114.0               5.0               42.0            67.0  \n",
       "\n",
       "[5 rows x 58 columns]"
      ]
     },
     "execution_count": 9,
     "metadata": {},
     "output_type": "execute_result"
    }
   ],
   "source": [
    "df = pd.read_csv('Resources/data3_load_assault_group_to_ML.csv')\n",
    "df.head()"
   ]
  },
  {
   "cell_type": "code",
   "execution_count": 10,
   "metadata": {},
   "outputs": [],
   "source": [
    "# Drop innecesary columns\n",
    "df.drop(['Unnamed: 0'], axis=1, inplace=True)"
   ]
  },
  {
   "cell_type": "code",
   "execution_count": 11,
   "metadata": {},
   "outputs": [],
   "source": [
    "# Add column of integers \n",
    "df['date_index'] = np.arange(len(df))+1"
   ]
  },
  {
   "cell_type": "code",
   "execution_count": 12,
   "metadata": {},
   "outputs": [],
   "source": [
    "df.drop(['Booking_year_month','DOB_month'], axis=1, inplace=True)"
   ]
  },
  {
   "cell_type": "code",
   "execution_count": 13,
   "metadata": {},
   "outputs": [
    {
     "data": {
      "text/plain": [
       "Index(['total_crime', 'total_crime_3', 'age<25_3', 'age26-50_3', 'age>50_3',\n",
       "       'day_of_week_Monday_3', 'day_of_week_Tuesday_3',\n",
       "       'day_of_week_Wednesday_3', 'day_of_week_Thursday_3',\n",
       "       'day_of_week_Friday_3', 'day_of_week_Saturday_3',\n",
       "       'day_of_week_Sunday_3', 'summer_3', 'spring_3', 'winter_3', 'autum_3',\n",
       "       'CityRN_FOREIGN_3', 'CityRN_HOMELESS_3', 'CityRN_MIAMI_3',\n",
       "       'total_crime_2', 'Age<25_2', 'Age26-50_2', 'Age>50_2',\n",
       "       'day_of_week_Monday_2', 'day_of_week_Tuesday_2',\n",
       "       'day_of_week_Wednesday_2', 'day_of_week_Thursday_2',\n",
       "       'day_of_week_Friday_2', 'day_of_week_Saturday_2',\n",
       "       'day_of_week_Sunday_2', 'summer_2', 'spring_2', 'winter_2', 'autum_2',\n",
       "       'CityRN_FOREIGN_2', 'CityRN_HOMELESS_2', 'CityRN_MIAMI_2',\n",
       "       'total_crime_1', 'age<25_1', 'age26-50_1', 'age>50_1',\n",
       "       'day_of_week_Monday_1', 'day_of_week_Tuesday_1',\n",
       "       'day_of_week_Wednesday_1', 'day_of_week_Thursday_1',\n",
       "       'day_of_week_Friday_1', 'day_of_week_Saturday_1',\n",
       "       'day_of_week_Sunday_1', 'summer_1', 'spring_1', 'winter_1', 'autum_1',\n",
       "       'CityRN_FOREIGN_1', 'CityRN_HOMELESS_1', 'CityRN_MIAMI_1',\n",
       "       'date_index'],\n",
       "      dtype='object')"
      ]
     },
     "execution_count": 13,
     "metadata": {},
     "output_type": "execute_result"
    }
   ],
   "source": [
    "df.columns"
   ]
  },
  {
   "cell_type": "code",
   "execution_count": 14,
   "metadata": {},
   "outputs": [
    {
     "data": {
      "text/html": [
       "<div>\n",
       "<style scoped>\n",
       "    .dataframe tbody tr th:only-of-type {\n",
       "        vertical-align: middle;\n",
       "    }\n",
       "\n",
       "    .dataframe tbody tr th {\n",
       "        vertical-align: top;\n",
       "    }\n",
       "\n",
       "    .dataframe thead th {\n",
       "        text-align: right;\n",
       "    }\n",
       "</style>\n",
       "<table border=\"1\" class=\"dataframe\">\n",
       "  <thead>\n",
       "    <tr style=\"text-align: right;\">\n",
       "      <th></th>\n",
       "      <th>total_crime</th>\n",
       "      <th>total_crime_3</th>\n",
       "      <th>age&lt;25_3</th>\n",
       "      <th>age26-50_3</th>\n",
       "      <th>age&gt;50_3</th>\n",
       "      <th>day_of_week_Monday_3</th>\n",
       "      <th>day_of_week_Tuesday_3</th>\n",
       "      <th>day_of_week_Wednesday_3</th>\n",
       "      <th>day_of_week_Thursday_3</th>\n",
       "      <th>day_of_week_Friday_3</th>\n",
       "      <th>...</th>\n",
       "      <th>day_of_week_Saturday_1</th>\n",
       "      <th>day_of_week_Sunday_1</th>\n",
       "      <th>summer_1</th>\n",
       "      <th>spring_1</th>\n",
       "      <th>winter_1</th>\n",
       "      <th>autum_1</th>\n",
       "      <th>CityRN_FOREIGN_1</th>\n",
       "      <th>CityRN_HOMELESS_1</th>\n",
       "      <th>CityRN_MIAMI_1</th>\n",
       "      <th>date_index</th>\n",
       "    </tr>\n",
       "  </thead>\n",
       "  <tbody>\n",
       "    <tr>\n",
       "      <th>0</th>\n",
       "      <td>153</td>\n",
       "      <td>14.0</td>\n",
       "      <td>3.0</td>\n",
       "      <td>7.0</td>\n",
       "      <td>4.0</td>\n",
       "      <td>0.0</td>\n",
       "      <td>0.0</td>\n",
       "      <td>0.0</td>\n",
       "      <td>0.0</td>\n",
       "      <td>3.0</td>\n",
       "      <td>...</td>\n",
       "      <td>21.0</td>\n",
       "      <td>14.0</td>\n",
       "      <td>142.0</td>\n",
       "      <td>0.0</td>\n",
       "      <td>0.0</td>\n",
       "      <td>0.0</td>\n",
       "      <td>13.0</td>\n",
       "      <td>52.0</td>\n",
       "      <td>77.0</td>\n",
       "      <td>1</td>\n",
       "    </tr>\n",
       "    <tr>\n",
       "      <th>1</th>\n",
       "      <td>121</td>\n",
       "      <td>132.0</td>\n",
       "      <td>13.0</td>\n",
       "      <td>91.0</td>\n",
       "      <td>28.0</td>\n",
       "      <td>22.0</td>\n",
       "      <td>13.0</td>\n",
       "      <td>23.0</td>\n",
       "      <td>24.0</td>\n",
       "      <td>19.0</td>\n",
       "      <td>...</td>\n",
       "      <td>22.0</td>\n",
       "      <td>32.0</td>\n",
       "      <td>153.0</td>\n",
       "      <td>0.0</td>\n",
       "      <td>0.0</td>\n",
       "      <td>0.0</td>\n",
       "      <td>14.0</td>\n",
       "      <td>43.0</td>\n",
       "      <td>96.0</td>\n",
       "      <td>2</td>\n",
       "    </tr>\n",
       "    <tr>\n",
       "      <th>2</th>\n",
       "      <td>156</td>\n",
       "      <td>142.0</td>\n",
       "      <td>18.0</td>\n",
       "      <td>92.0</td>\n",
       "      <td>32.0</td>\n",
       "      <td>14.0</td>\n",
       "      <td>13.0</td>\n",
       "      <td>29.0</td>\n",
       "      <td>28.0</td>\n",
       "      <td>23.0</td>\n",
       "      <td>...</td>\n",
       "      <td>10.0</td>\n",
       "      <td>16.0</td>\n",
       "      <td>121.0</td>\n",
       "      <td>0.0</td>\n",
       "      <td>0.0</td>\n",
       "      <td>0.0</td>\n",
       "      <td>11.0</td>\n",
       "      <td>44.0</td>\n",
       "      <td>66.0</td>\n",
       "      <td>3</td>\n",
       "    </tr>\n",
       "    <tr>\n",
       "      <th>3</th>\n",
       "      <td>114</td>\n",
       "      <td>153.0</td>\n",
       "      <td>15.0</td>\n",
       "      <td>112.0</td>\n",
       "      <td>26.0</td>\n",
       "      <td>24.0</td>\n",
       "      <td>17.0</td>\n",
       "      <td>20.0</td>\n",
       "      <td>20.0</td>\n",
       "      <td>18.0</td>\n",
       "      <td>...</td>\n",
       "      <td>26.0</td>\n",
       "      <td>23.0</td>\n",
       "      <td>0.0</td>\n",
       "      <td>0.0</td>\n",
       "      <td>0.0</td>\n",
       "      <td>156.0</td>\n",
       "      <td>10.0</td>\n",
       "      <td>46.0</td>\n",
       "      <td>100.0</td>\n",
       "      <td>4</td>\n",
       "    </tr>\n",
       "    <tr>\n",
       "      <th>4</th>\n",
       "      <td>129</td>\n",
       "      <td>121.0</td>\n",
       "      <td>11.0</td>\n",
       "      <td>84.0</td>\n",
       "      <td>26.0</td>\n",
       "      <td>13.0</td>\n",
       "      <td>22.0</td>\n",
       "      <td>23.0</td>\n",
       "      <td>24.0</td>\n",
       "      <td>13.0</td>\n",
       "      <td>...</td>\n",
       "      <td>17.0</td>\n",
       "      <td>8.0</td>\n",
       "      <td>0.0</td>\n",
       "      <td>0.0</td>\n",
       "      <td>0.0</td>\n",
       "      <td>114.0</td>\n",
       "      <td>5.0</td>\n",
       "      <td>42.0</td>\n",
       "      <td>67.0</td>\n",
       "      <td>5</td>\n",
       "    </tr>\n",
       "  </tbody>\n",
       "</table>\n",
       "<p>5 rows × 56 columns</p>\n",
       "</div>"
      ],
      "text/plain": [
       "   total_crime  total_crime_3  age<25_3  age26-50_3  age>50_3  \\\n",
       "0          153           14.0       3.0         7.0       4.0   \n",
       "1          121          132.0      13.0        91.0      28.0   \n",
       "2          156          142.0      18.0        92.0      32.0   \n",
       "3          114          153.0      15.0       112.0      26.0   \n",
       "4          129          121.0      11.0        84.0      26.0   \n",
       "\n",
       "   day_of_week_Monday_3  day_of_week_Tuesday_3  day_of_week_Wednesday_3  \\\n",
       "0                   0.0                    0.0                      0.0   \n",
       "1                  22.0                   13.0                     23.0   \n",
       "2                  14.0                   13.0                     29.0   \n",
       "3                  24.0                   17.0                     20.0   \n",
       "4                  13.0                   22.0                     23.0   \n",
       "\n",
       "   day_of_week_Thursday_3  day_of_week_Friday_3     ...      \\\n",
       "0                     0.0                   3.0     ...       \n",
       "1                    24.0                  19.0     ...       \n",
       "2                    28.0                  23.0     ...       \n",
       "3                    20.0                  18.0     ...       \n",
       "4                    24.0                  13.0     ...       \n",
       "\n",
       "   day_of_week_Saturday_1  day_of_week_Sunday_1  summer_1  spring_1  winter_1  \\\n",
       "0                    21.0                  14.0     142.0       0.0       0.0   \n",
       "1                    22.0                  32.0     153.0       0.0       0.0   \n",
       "2                    10.0                  16.0     121.0       0.0       0.0   \n",
       "3                    26.0                  23.0       0.0       0.0       0.0   \n",
       "4                    17.0                   8.0       0.0       0.0       0.0   \n",
       "\n",
       "   autum_1  CityRN_FOREIGN_1  CityRN_HOMELESS_1  CityRN_MIAMI_1  date_index  \n",
       "0      0.0              13.0               52.0            77.0           1  \n",
       "1      0.0              14.0               43.0            96.0           2  \n",
       "2      0.0              11.0               44.0            66.0           3  \n",
       "3    156.0              10.0               46.0           100.0           4  \n",
       "4    114.0               5.0               42.0            67.0           5  \n",
       "\n",
       "[5 rows x 56 columns]"
      ]
     },
     "execution_count": 14,
     "metadata": {},
     "output_type": "execute_result"
    }
   ],
   "source": [
    "df.head()"
   ]
  },
  {
   "cell_type": "code",
   "execution_count": 15,
   "metadata": {},
   "outputs": [],
   "source": [
    "# train=df[0:43]\n",
    "# test=df[43:] "
   ]
  },
  {
   "cell_type": "code",
   "execution_count": 17,
   "metadata": {},
   "outputs": [
    {
     "name": "stdout",
     "output_type": "stream",
     "text": [
      "(47, 55) (47, 1)\n"
     ]
    }
   ],
   "source": [
    "# Assign X (data) and y (target)\n",
    "\n",
    "### BEGIN SOLUTION\n",
    "X = df[['total_crime', 'total_crime_3', 'age<25_3', 'age26-50_3', 'age>50_3',\n",
    "       'day_of_week_Monday_3', 'day_of_week_Tuesday_3',\n",
    "       'day_of_week_Wednesday_3', 'day_of_week_Thursday_3',\n",
    "       'day_of_week_Friday_3', 'day_of_week_Saturday_3',\n",
    "       'day_of_week_Sunday_3', 'summer_3', 'spring_3', 'winter_3', 'autum_3',\n",
    "       'CityRN_FOREIGN_3', 'CityRN_HOMELESS_3', 'CityRN_MIAMI_3',\n",
    "       'total_crime_2', 'Age<25_2', 'Age26-50_2', 'Age>50_2',\n",
    "       'day_of_week_Monday_2', 'day_of_week_Tuesday_2',\n",
    "       'day_of_week_Wednesday_2', 'day_of_week_Thursday_2',\n",
    "       'day_of_week_Friday_2', 'day_of_week_Saturday_2',\n",
    "       'day_of_week_Sunday_2', 'summer_2', 'spring_2', 'winter_2', 'autum_2',\n",
    "       'CityRN_FOREIGN_2', 'CityRN_HOMELESS_2', 'CityRN_MIAMI_2',\n",
    "       'total_crime_1', 'age<25_1', 'age26-50_1', 'age>50_1',\n",
    "       'day_of_week_Monday_1', 'day_of_week_Tuesday_1',\n",
    "       'day_of_week_Wednesday_1', 'day_of_week_Thursday_1',\n",
    "       'day_of_week_Friday_1', 'day_of_week_Saturday_1',\n",
    "       'day_of_week_Sunday_1', 'summer_1', 'spring_1', 'winter_1', 'autum_1',\n",
    "       'CityRN_FOREIGN_1', 'CityRN_HOMELESS_1', 'CityRN_MIAMI_1']]\n",
    "y = df[\"date_index\"].values.reshape(-1, 1)\n",
    "print(X.shape, y.shape)\n",
    "### END SOLUTION"
   ]
  },
  {
   "cell_type": "code",
   "execution_count": 19,
   "metadata": {},
   "outputs": [],
   "source": [
    " # Split the data into training and testing\n",
    "\n",
    "### BEGIN SOLUTION\n",
    "from sklearn.model_selection import train_test_split\n",
    "\n",
    "X_train, X_test, y_train, y_test = train_test_split(X, y, random_state=42)\n",
    "### END SOLUTION"
   ]
  },
  {
   "cell_type": "code",
   "execution_count": 20,
   "metadata": {},
   "outputs": [],
   "source": [
    "from sklearn.preprocessing import StandardScaler\n",
    "\n",
    "# Create a StandardScater model and fit it to the training data\n",
    "\n",
    "### BEGIN SOLUTION\n",
    "X_scaler = StandardScaler().fit(X_train)\n",
    "y_scaler = StandardScaler().fit(y_train)\n",
    "### END SOLUTION"
   ]
  },
  {
   "cell_type": "code",
   "execution_count": 21,
   "metadata": {},
   "outputs": [],
   "source": [
    "# Transform the training and testing data using the X_scaler and y_scaler models\n",
    "\n",
    "### BEGIN SOLUTION\n",
    "X_train_scaled = X_scaler.transform(X_train)\n",
    "X_test_scaled = X_scaler.transform(X_test)\n",
    "y_train_scaled = y_scaler.transform(y_train)\n",
    "y_test_scaled = y_scaler.transform(y_test)\n",
    "### END SOLUTION"
   ]
  },
  {
   "cell_type": "code",
   "execution_count": 22,
   "metadata": {},
   "outputs": [
    {
     "data": {
      "text/plain": [
       "LinearRegression(copy_X=True, fit_intercept=True, n_jobs=None, normalize=False)"
      ]
     },
     "execution_count": 22,
     "metadata": {},
     "output_type": "execute_result"
    }
   ],
   "source": [
    "# Create a LinearRegression model and fit it to the scaled training data\n",
    "\n",
    "### BEGIN SOLUTION\n",
    "from sklearn.linear_model import LinearRegression\n",
    "model = LinearRegression()\n",
    "model.fit(X_train_scaled, y_train_scaled)\n",
    "### END SOLUTION"
   ]
  },
  {
   "cell_type": "code",
   "execution_count": 36,
   "metadata": {},
   "outputs": [
    {
     "data": {
      "image/png": "[encoded data removed]",
      "text/plain": [
       "<Figure size 432x288 with 1 Axes>"
      ]
     },
     "metadata": {
      "needs_background": "light"
     },
     "output_type": "display_data"
    }
   ],
   "source": [
    "# Make predictions using the X_test_scaled data\n",
    "# Plot y_test_scaled vs y_test_scaled\n",
    "# Scatter plot y_test_scaled vs predictions\n",
    "\n",
    "### BEGIN SOLUTION\n",
    "predictions = model.predict(X_test_scaled)\n",
    "model.fit(X_train_scaled, y_train_scaled)\n",
    "# plt.scatter(model.predict(X_train_scaled), model.predict(X_train_scaled), c=\"blue\", label=\"Training Data\")\n",
    "# plt.scatter(model.predict(X_test_scaled), model.predict(X_test_scaled), c=\"orange\", label=\"Testing Data\")\n",
    "plt.scatter(model.predict(X_train_scaled), model.predict(X_train_scaled) - y_train_scaled, c=\"blue\", label=\"Training Data\")\n",
    "plt.scatter(model.predict(X_test_scaled), model.predict(X_test_scaled) - y_test_scaled, c=\"orange\", label=\"Testing Data\")\n",
    "plt.legend()\n",
    "plt.hlines(y=0, xmin=y_test_scaled.min(), xmax=y_test_scaled.max())\n",
    "plt.title(\"Residual Plot\")\n",
    "plt.show()\n",
    "### END SOLUTION"
   ]
  },
  {
   "cell_type": "code",
   "execution_count": 29,
   "metadata": {},
   "outputs": [],
   "source": [
    "# R2 Closer to 1: more explanation we achieved . how much of the variance in the data it's being explained by the line (by the model)\n",
    "# MSE:lose to zero: the tighter it gets the better model we have  how related these two features are from each other.  Average different of the real Y and predicted Y \n"
   ]
  },
  {
   "cell_type": "code",
   "execution_count": 30,
   "metadata": {},
   "outputs": [
    {
     "name": "stdout",
     "output_type": "stream",
     "text": [
      "MSE: 1.154657292060122, R2: -0.3400263241033583\n"
     ]
    }
   ],
   "source": [
    "# Used X_test_scaled, y_test_scaled, and model.predict(X_test_scaled) to calculate MSE and R2\n",
    "\n",
    "### BEGIN SOLUTION\n",
    "from sklearn.metrics import mean_squared_error\n",
    "\n",
    "MSE = mean_squared_error(y_test_scaled, predictions)\n",
    "r2 = model.score(X_test_scaled, y_test_scaled)\n",
    "### END SOLUTION\n",
    "\n",
    "print(f\"MSE: {MSE}, R2: {r2}\")"
   ]
  },
  {
   "cell_type": "code",
   "execution_count": 31,
   "metadata": {},
   "outputs": [
    {
     "name": "stdout",
     "output_type": "stream",
     "text": [
      "MSE: 0.9189769711988092, R2: -0.066509813014767\n"
     ]
    }
   ],
   "source": [
    "# LASSO model\n",
    "# Note: Use an alpha of .01 when creating the model for this activity\n",
    "from sklearn.linear_model import Lasso\n",
    "\n",
    "### BEGIN SOLUTION\n",
    "lasso = Lasso(alpha=.01).fit(X_train_scaled, y_train_scaled)\n",
    "\n",
    "predictions = lasso.predict(X_test_scaled)\n",
    "\n",
    "MSE = mean_squared_error(y_test_scaled, predictions)\n",
    "r2 = lasso.score(X_test_scaled, y_test_scaled)\n",
    "### END SOLUTION\n",
    "\n",
    "print(f\"MSE: {MSE}, R2: {r2}\")"
   ]
  },
  {
   "cell_type": "code",
   "execution_count": 32,
   "metadata": {},
   "outputs": [
    {
     "name": "stdout",
     "output_type": "stream",
     "text": [
      "MSE: 1.1515175079360693, R2: -0.3363824780832758\n"
     ]
    }
   ],
   "source": [
    "# Ridge model\n",
    "# Note: Use an alpha of .01 when creating the model for this activity\n",
    "from sklearn.linear_model import Ridge\n",
    "\n",
    "### BEGIN SOLUTION\n",
    "ridge = Ridge(alpha=.01).fit(X_train_scaled, y_train_scaled)\n",
    "\n",
    "predictions = ridge.predict(X_test_scaled)\n",
    "\n",
    "MSE = mean_squared_error(y_test_scaled, predictions)\n",
    "r2 = ridge.score(X_test_scaled, y_test_scaled)\n",
    "### END SOLUTION\n",
    "\n",
    "print(f\"MSE: {MSE}, R2: {r2}\")"
   ]
  },
  {
   "cell_type": "code",
   "execution_count": 33,
   "metadata": {},
   "outputs": [
    {
     "name": "stdout",
     "output_type": "stream",
     "text": [
      "MSE: 1.057666123938503, R2: -0.2274641644199322\n"
     ]
    }
   ],
   "source": [
    "# ElasticNet model\n",
    "# Note: Use an alpha of .01 when creating the model for this activity\n",
    "from sklearn.linear_model import ElasticNet\n",
    "\n",
    "### BEGIN SOLUTION\n",
    "elasticnet = ElasticNet(alpha=.01).fit(X_train_scaled, y_train_scaled)\n",
    "\n",
    "predictions = elasticnet.predict(X_test_scaled)\n",
    "\n",
    "MSE = mean_squared_error(y_test_scaled, predictions)\n",
    "r2 = elasticnet.score(X_test_scaled, y_test_scaled)\n",
    "### END SOLUTION\n",
    "\n",
    "print(f\"MSE: {MSE}, R2: {r2}\")"
   ]
  },
  {
   "cell_type": "code",
   "execution_count": null,
   "metadata": {},
   "outputs": [],
   "source": []
  }
 ],
 "metadata": {
  "kernelspec": {
   "display_name": "Python 3",
   "language": "python",
   "name": "python3"
  },
  "language_info": {
   "codemirror_mode": {
    "name": "ipython",
    "version": 3
   },
   "file_extension": ".py",
   "mimetype": "text/x-python",
   "name": "python",
   "nbconvert_exporter": "python",
   "pygments_lexer": "ipython3",
   "version": "3.7.1"
  }
 },
 "nbformat": 4,
 "nbformat_minor": 2
}
