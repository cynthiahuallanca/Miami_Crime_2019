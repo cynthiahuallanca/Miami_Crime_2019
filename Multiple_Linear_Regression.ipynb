{
 "cells": [
  {
   "cell_type": "code",
   "execution_count": 79,
   "metadata": {},
   "outputs": [],
   "source": [
    "# AJUSTAR LA DATA PARA QUE DE RESULTADOS!!!!"
   ]
  },
  {
   "cell_type": "code",
   "execution_count": 109,
   "metadata": {},
   "outputs": [],
   "source": [
    "%matplotlib inline\n",
    "import matplotlib.pyplot as plt\n",
    "import numpy as np\n",
    "import pandas as pd"
   ]
  },
  {
   "cell_type": "code",
   "execution_count": 110,
   "metadata": {},
   "outputs": [],
   "source": [
    "# Multiple linear Regression"
   ]
  },
  {
   "cell_type": "code",
   "execution_count": 111,
   "metadata": {},
   "outputs": [],
   "source": [
    "from sklearn.datasets import make_regression"
   ]
  },
  {
   "cell_type": "code",
   "execution_count": 112,
   "metadata": {},
   "outputs": [],
   "source": [
    "df = pd.read_csv('jailbook_cleaned.csv')"
   ]
  },
  {
   "cell_type": "code",
   "execution_count": 113,
   "metadata": {},
   "outputs": [
    {
     "data": {
      "text/html": [
       "<div>\n",
       "<style scoped>\n",
       "    .dataframe tbody tr th:only-of-type {\n",
       "        vertical-align: middle;\n",
       "    }\n",
       "\n",
       "    .dataframe tbody tr th {\n",
       "        vertical-align: top;\n",
       "    }\n",
       "\n",
       "    .dataframe thead th {\n",
       "        text-align: right;\n",
       "    }\n",
       "</style>\n",
       "<table border=\"1\" class=\"dataframe\">\n",
       "  <thead>\n",
       "    <tr style=\"text-align: right;\">\n",
       "      <th></th>\n",
       "      <th>Unnamed: 0</th>\n",
       "      <th>Defendant</th>\n",
       "      <th>Address</th>\n",
       "      <th>Zip</th>\n",
       "      <th>City</th>\n",
       "      <th>State</th>\n",
       "      <th>Crime_Family</th>\n",
       "      <th>Crime_Family1</th>\n",
       "      <th>Crime_Family2</th>\n",
       "      <th>Booking_year</th>\n",
       "      <th>...</th>\n",
       "      <th>Booking_day</th>\n",
       "      <th>Booking_Date</th>\n",
       "      <th>DOB_year</th>\n",
       "      <th>DOB_month</th>\n",
       "      <th>DOB_day</th>\n",
       "      <th>Date_of_birth</th>\n",
       "      <th>Age</th>\n",
       "      <th>day_of_week</th>\n",
       "      <th>Age_Crime</th>\n",
       "      <th>CityRN</th>\n",
       "    </tr>\n",
       "  </thead>\n",
       "  <tbody>\n",
       "    <tr>\n",
       "      <th>0</th>\n",
       "      <td>1</td>\n",
       "      <td>DITAS, MICHAEL</td>\n",
       "      <td>7484 NW 169 TERR</td>\n",
       "      <td>NaN</td>\n",
       "      <td>MIAMI</td>\n",
       "      <td>FL</td>\n",
       "      <td>THEFT, ROBBERY, AND RELATED CRIMES</td>\n",
       "      <td>ASSAULT &amp; BATTERY</td>\n",
       "      <td>PERSONAL CRIME</td>\n",
       "      <td>2015</td>\n",
       "      <td>...</td>\n",
       "      <td>5</td>\n",
       "      <td>6/5/2015</td>\n",
       "      <td>1982</td>\n",
       "      <td>2</td>\n",
       "      <td>17</td>\n",
       "      <td>2/17/1982</td>\n",
       "      <td>37</td>\n",
       "      <td>Friday</td>\n",
       "      <td>33</td>\n",
       "      <td>MIAMI</td>\n",
       "    </tr>\n",
       "    <tr>\n",
       "      <th>1</th>\n",
       "      <td>4</td>\n",
       "      <td>DORSEY, JOHN</td>\n",
       "      <td>651 NW 177TH STREET  101</td>\n",
       "      <td>NaN</td>\n",
       "      <td>MIAMI GARDENS</td>\n",
       "      <td>FL</td>\n",
       "      <td>ALCOHOL PROHIBITION</td>\n",
       "      <td>DRUGS &amp; ALCOHOL</td>\n",
       "      <td>STATUTORY CRIME</td>\n",
       "      <td>2015</td>\n",
       "      <td>...</td>\n",
       "      <td>5</td>\n",
       "      <td>6/5/2015</td>\n",
       "      <td>1985</td>\n",
       "      <td>4</td>\n",
       "      <td>11</td>\n",
       "      <td>4/11/1985</td>\n",
       "      <td>34</td>\n",
       "      <td>Friday</td>\n",
       "      <td>30</td>\n",
       "      <td>MIAMI</td>\n",
       "    </tr>\n",
       "    <tr>\n",
       "      <th>2</th>\n",
       "      <td>16</td>\n",
       "      <td>GAITOR, RASHAD  ZAROSHUA</td>\n",
       "      <td>UNKNOWN</td>\n",
       "      <td>NaN</td>\n",
       "      <td>MIAMI</td>\n",
       "      <td>FL</td>\n",
       "      <td>WARRANT</td>\n",
       "      <td>MISCELLANEOUS CRIMES</td>\n",
       "      <td>OTHER</td>\n",
       "      <td>2015</td>\n",
       "      <td>...</td>\n",
       "      <td>5</td>\n",
       "      <td>6/5/2015</td>\n",
       "      <td>1991</td>\n",
       "      <td>8</td>\n",
       "      <td>19</td>\n",
       "      <td>8/19/1991</td>\n",
       "      <td>27</td>\n",
       "      <td>Friday</td>\n",
       "      <td>23</td>\n",
       "      <td>MIAMI</td>\n",
       "    </tr>\n",
       "    <tr>\n",
       "      <th>3</th>\n",
       "      <td>24</td>\n",
       "      <td>WILLIAMS, ALAN  J</td>\n",
       "      <td>UNKNOWN</td>\n",
       "      <td>NaN</td>\n",
       "      <td>MIAMI</td>\n",
       "      <td>FL</td>\n",
       "      <td>ALCOHOL PROHIBITION</td>\n",
       "      <td>DRUGS &amp; ALCOHOL</td>\n",
       "      <td>STATUTORY CRIME</td>\n",
       "      <td>2015</td>\n",
       "      <td>...</td>\n",
       "      <td>3</td>\n",
       "      <td>6/3/2015</td>\n",
       "      <td>1964</td>\n",
       "      <td>4</td>\n",
       "      <td>28</td>\n",
       "      <td>4/28/1964</td>\n",
       "      <td>55</td>\n",
       "      <td>Wednesday</td>\n",
       "      <td>51</td>\n",
       "      <td>MIAMI</td>\n",
       "    </tr>\n",
       "    <tr>\n",
       "      <th>4</th>\n",
       "      <td>29</td>\n",
       "      <td>WYNTER, KALONJI  ABAYOMI</td>\n",
       "      <td>HOMELESS</td>\n",
       "      <td>NaN</td>\n",
       "      <td>HOMELESS</td>\n",
       "      <td>FL</td>\n",
       "      <td>WARRANT</td>\n",
       "      <td>MISCELLANEOUS CRIMES</td>\n",
       "      <td>OTHER</td>\n",
       "      <td>2015</td>\n",
       "      <td>...</td>\n",
       "      <td>3</td>\n",
       "      <td>6/3/2015</td>\n",
       "      <td>1977</td>\n",
       "      <td>5</td>\n",
       "      <td>19</td>\n",
       "      <td>5/19/1977</td>\n",
       "      <td>42</td>\n",
       "      <td>Wednesday</td>\n",
       "      <td>38</td>\n",
       "      <td>HOMELESS</td>\n",
       "    </tr>\n",
       "  </tbody>\n",
       "</table>\n",
       "<p>5 rows × 21 columns</p>\n",
       "</div>"
      ],
      "text/plain": [
       "   Unnamed: 0                 Defendant                   Address  Zip  \\\n",
       "0           1            DITAS, MICHAEL          7484 NW 169 TERR  NaN   \n",
       "1           4              DORSEY, JOHN  651 NW 177TH STREET  101  NaN   \n",
       "2          16  GAITOR, RASHAD  ZAROSHUA                   UNKNOWN  NaN   \n",
       "3          24         WILLIAMS, ALAN  J                   UNKNOWN  NaN   \n",
       "4          29  WYNTER, KALONJI  ABAYOMI                  HOMELESS  NaN   \n",
       "\n",
       "            City State                        Crime_Family  \\\n",
       "0          MIAMI    FL  THEFT, ROBBERY, AND RELATED CRIMES   \n",
       "1  MIAMI GARDENS    FL                 ALCOHOL PROHIBITION   \n",
       "2          MIAMI    FL                             WARRANT   \n",
       "3          MIAMI    FL                 ALCOHOL PROHIBITION   \n",
       "4       HOMELESS    FL                             WARRANT   \n",
       "\n",
       "          Crime_Family1    Crime_Family2  Booking_year    ...     Booking_day  \\\n",
       "0     ASSAULT & BATTERY   PERSONAL CRIME          2015    ...               5   \n",
       "1       DRUGS & ALCOHOL  STATUTORY CRIME          2015    ...               5   \n",
       "2  MISCELLANEOUS CRIMES            OTHER          2015    ...               5   \n",
       "3       DRUGS & ALCOHOL  STATUTORY CRIME          2015    ...               3   \n",
       "4  MISCELLANEOUS CRIMES            OTHER          2015    ...               3   \n",
       "\n",
       "   Booking_Date DOB_year  DOB_month  DOB_day  Date_of_birth Age  day_of_week  \\\n",
       "0      6/5/2015     1982          2       17      2/17/1982  37       Friday   \n",
       "1      6/5/2015     1985          4       11      4/11/1985  34       Friday   \n",
       "2      6/5/2015     1991          8       19      8/19/1991  27       Friday   \n",
       "3      6/3/2015     1964          4       28      4/28/1964  55    Wednesday   \n",
       "4      6/3/2015     1977          5       19      5/19/1977  42    Wednesday   \n",
       "\n",
       "  Age_Crime    CityRN  \n",
       "0        33     MIAMI  \n",
       "1        30     MIAMI  \n",
       "2        23     MIAMI  \n",
       "3        51     MIAMI  \n",
       "4        38  HOMELESS  \n",
       "\n",
       "[5 rows x 21 columns]"
      ]
     },
     "execution_count": 113,
     "metadata": {},
     "output_type": "execute_result"
    }
   ],
   "source": [
    "df.head()"
   ]
  },
  {
   "cell_type": "code",
   "execution_count": 114,
   "metadata": {},
   "outputs": [],
   "source": [
    "# Drop columns that will be not used \n",
    "df.drop(['Defendant', 'Unnamed: 0', 'Address', 'Zip', 'City', 'State', 'Crime_Family','Crime_Family2', 'Booking_day', 'Booking_year', 'Booking_month', 'Booking_Date', 'DOB_day', 'DOB_month','DOB_year','Date_of_birth', 'Age', 'day_of_week', 'Age_Crime'], axis=1, inplace=True)"
   ]
  },
  {
   "cell_type": "code",
   "execution_count": 115,
   "metadata": {},
   "outputs": [
    {
     "data": {
      "text/html": [
       "<div>\n",
       "<style scoped>\n",
       "    .dataframe tbody tr th:only-of-type {\n",
       "        vertical-align: middle;\n",
       "    }\n",
       "\n",
       "    .dataframe tbody tr th {\n",
       "        vertical-align: top;\n",
       "    }\n",
       "\n",
       "    .dataframe thead th {\n",
       "        text-align: right;\n",
       "    }\n",
       "</style>\n",
       "<table border=\"1\" class=\"dataframe\">\n",
       "  <thead>\n",
       "    <tr style=\"text-align: right;\">\n",
       "      <th></th>\n",
       "      <th>Crime_Family1</th>\n",
       "      <th>CityRN</th>\n",
       "    </tr>\n",
       "  </thead>\n",
       "  <tbody>\n",
       "    <tr>\n",
       "      <th>0</th>\n",
       "      <td>ASSAULT &amp; BATTERY</td>\n",
       "      <td>MIAMI</td>\n",
       "    </tr>\n",
       "    <tr>\n",
       "      <th>1</th>\n",
       "      <td>DRUGS &amp; ALCOHOL</td>\n",
       "      <td>MIAMI</td>\n",
       "    </tr>\n",
       "    <tr>\n",
       "      <th>2</th>\n",
       "      <td>MISCELLANEOUS CRIMES</td>\n",
       "      <td>MIAMI</td>\n",
       "    </tr>\n",
       "    <tr>\n",
       "      <th>3</th>\n",
       "      <td>DRUGS &amp; ALCOHOL</td>\n",
       "      <td>MIAMI</td>\n",
       "    </tr>\n",
       "    <tr>\n",
       "      <th>4</th>\n",
       "      <td>MISCELLANEOUS CRIMES</td>\n",
       "      <td>HOMELESS</td>\n",
       "    </tr>\n",
       "  </tbody>\n",
       "</table>\n",
       "</div>"
      ],
      "text/plain": [
       "          Crime_Family1    CityRN\n",
       "0     ASSAULT & BATTERY     MIAMI\n",
       "1       DRUGS & ALCOHOL     MIAMI\n",
       "2  MISCELLANEOUS CRIMES     MIAMI\n",
       "3       DRUGS & ALCOHOL     MIAMI\n",
       "4  MISCELLANEOUS CRIMES  HOMELESS"
      ]
     },
     "execution_count": 115,
     "metadata": {},
     "output_type": "execute_result"
    }
   ],
   "source": [
    "df.head()"
   ]
  },
  {
   "cell_type": "code",
   "execution_count": 116,
   "metadata": {},
   "outputs": [
    {
     "data": {
      "text/html": [
       "<div>\n",
       "<style scoped>\n",
       "    .dataframe tbody tr th:only-of-type {\n",
       "        vertical-align: middle;\n",
       "    }\n",
       "\n",
       "    .dataframe tbody tr th {\n",
       "        vertical-align: top;\n",
       "    }\n",
       "\n",
       "    .dataframe thead th {\n",
       "        text-align: right;\n",
       "    }\n",
       "</style>\n",
       "<table border=\"1\" class=\"dataframe\">\n",
       "  <thead>\n",
       "    <tr style=\"text-align: right;\">\n",
       "      <th></th>\n",
       "      <th>Crime_Family1_ABUSE</th>\n",
       "      <th>Crime_Family1_ASSAULT &amp; BATTERY</th>\n",
       "      <th>Crime_Family1_BURGLARY</th>\n",
       "      <th>Crime_Family1_CRIMINAL GANG</th>\n",
       "      <th>Crime_Family1_DRUGS &amp; ALCOHOL</th>\n",
       "      <th>Crime_Family1_FIRE</th>\n",
       "      <th>Crime_Family1_GAMBLING</th>\n",
       "      <th>Crime_Family1_HOMICIDE</th>\n",
       "      <th>Crime_Family1_KIDNAPPING</th>\n",
       "      <th>Crime_Family1_MISCELLANEOUS CRIMES</th>\n",
       "      <th>Crime_Family1_PROTEST</th>\n",
       "      <th>Crime_Family1_SEXUAL MISCONDUCT</th>\n",
       "      <th>Crime_Family1_TREASON</th>\n",
       "      <th>Crime_Family1_WHITE COLLAR</th>\n",
       "      <th>CityRN_FOREIGN</th>\n",
       "      <th>CityRN_HOMELESS</th>\n",
       "      <th>CityRN_MIAMI</th>\n",
       "    </tr>\n",
       "  </thead>\n",
       "  <tbody>\n",
       "    <tr>\n",
       "      <th>0</th>\n",
       "      <td>0</td>\n",
       "      <td>1</td>\n",
       "      <td>0</td>\n",
       "      <td>0</td>\n",
       "      <td>0</td>\n",
       "      <td>0</td>\n",
       "      <td>0</td>\n",
       "      <td>0</td>\n",
       "      <td>0</td>\n",
       "      <td>0</td>\n",
       "      <td>0</td>\n",
       "      <td>0</td>\n",
       "      <td>0</td>\n",
       "      <td>0</td>\n",
       "      <td>0</td>\n",
       "      <td>0</td>\n",
       "      <td>1</td>\n",
       "    </tr>\n",
       "    <tr>\n",
       "      <th>1</th>\n",
       "      <td>0</td>\n",
       "      <td>0</td>\n",
       "      <td>0</td>\n",
       "      <td>0</td>\n",
       "      <td>1</td>\n",
       "      <td>0</td>\n",
       "      <td>0</td>\n",
       "      <td>0</td>\n",
       "      <td>0</td>\n",
       "      <td>0</td>\n",
       "      <td>0</td>\n",
       "      <td>0</td>\n",
       "      <td>0</td>\n",
       "      <td>0</td>\n",
       "      <td>0</td>\n",
       "      <td>0</td>\n",
       "      <td>1</td>\n",
       "    </tr>\n",
       "    <tr>\n",
       "      <th>2</th>\n",
       "      <td>0</td>\n",
       "      <td>0</td>\n",
       "      <td>0</td>\n",
       "      <td>0</td>\n",
       "      <td>0</td>\n",
       "      <td>0</td>\n",
       "      <td>0</td>\n",
       "      <td>0</td>\n",
       "      <td>0</td>\n",
       "      <td>1</td>\n",
       "      <td>0</td>\n",
       "      <td>0</td>\n",
       "      <td>0</td>\n",
       "      <td>0</td>\n",
       "      <td>0</td>\n",
       "      <td>0</td>\n",
       "      <td>1</td>\n",
       "    </tr>\n",
       "    <tr>\n",
       "      <th>3</th>\n",
       "      <td>0</td>\n",
       "      <td>0</td>\n",
       "      <td>0</td>\n",
       "      <td>0</td>\n",
       "      <td>1</td>\n",
       "      <td>0</td>\n",
       "      <td>0</td>\n",
       "      <td>0</td>\n",
       "      <td>0</td>\n",
       "      <td>0</td>\n",
       "      <td>0</td>\n",
       "      <td>0</td>\n",
       "      <td>0</td>\n",
       "      <td>0</td>\n",
       "      <td>0</td>\n",
       "      <td>0</td>\n",
       "      <td>1</td>\n",
       "    </tr>\n",
       "    <tr>\n",
       "      <th>4</th>\n",
       "      <td>0</td>\n",
       "      <td>0</td>\n",
       "      <td>0</td>\n",
       "      <td>0</td>\n",
       "      <td>0</td>\n",
       "      <td>0</td>\n",
       "      <td>0</td>\n",
       "      <td>0</td>\n",
       "      <td>0</td>\n",
       "      <td>1</td>\n",
       "      <td>0</td>\n",
       "      <td>0</td>\n",
       "      <td>0</td>\n",
       "      <td>0</td>\n",
       "      <td>0</td>\n",
       "      <td>1</td>\n",
       "      <td>0</td>\n",
       "    </tr>\n",
       "  </tbody>\n",
       "</table>\n",
       "</div>"
      ],
      "text/plain": [
       "   Crime_Family1_ABUSE  Crime_Family1_ASSAULT & BATTERY  \\\n",
       "0                    0                                1   \n",
       "1                    0                                0   \n",
       "2                    0                                0   \n",
       "3                    0                                0   \n",
       "4                    0                                0   \n",
       "\n",
       "   Crime_Family1_BURGLARY  Crime_Family1_CRIMINAL GANG  \\\n",
       "0                       0                            0   \n",
       "1                       0                            0   \n",
       "2                       0                            0   \n",
       "3                       0                            0   \n",
       "4                       0                            0   \n",
       "\n",
       "   Crime_Family1_DRUGS & ALCOHOL  Crime_Family1_FIRE  Crime_Family1_GAMBLING  \\\n",
       "0                              0                   0                       0   \n",
       "1                              1                   0                       0   \n",
       "2                              0                   0                       0   \n",
       "3                              1                   0                       0   \n",
       "4                              0                   0                       0   \n",
       "\n",
       "   Crime_Family1_HOMICIDE  Crime_Family1_KIDNAPPING  \\\n",
       "0                       0                         0   \n",
       "1                       0                         0   \n",
       "2                       0                         0   \n",
       "3                       0                         0   \n",
       "4                       0                         0   \n",
       "\n",
       "   Crime_Family1_MISCELLANEOUS CRIMES  Crime_Family1_PROTEST  \\\n",
       "0                                   0                      0   \n",
       "1                                   0                      0   \n",
       "2                                   1                      0   \n",
       "3                                   0                      0   \n",
       "4                                   1                      0   \n",
       "\n",
       "   Crime_Family1_SEXUAL MISCONDUCT  Crime_Family1_TREASON  \\\n",
       "0                                0                      0   \n",
       "1                                0                      0   \n",
       "2                                0                      0   \n",
       "3                                0                      0   \n",
       "4                                0                      0   \n",
       "\n",
       "   Crime_Family1_WHITE COLLAR  CityRN_FOREIGN  CityRN_HOMELESS  CityRN_MIAMI  \n",
       "0                           0               0                0             1  \n",
       "1                           0               0                0             1  \n",
       "2                           0               0                0             1  \n",
       "3                           0               0                0             1  \n",
       "4                           0               0                1             0  "
      ]
     },
     "execution_count": 116,
     "metadata": {},
     "output_type": "execute_result"
    }
   ],
   "source": [
    "# Use Pandas get_dummies to convert categorical data\n",
    "\n",
    "### BEGIN SOLUTION\n",
    "df = pd.get_dummies(df)\n",
    "df.head()\n",
    "### END SOLUTION"
   ]
  },
  {
   "cell_type": "code",
   "execution_count": 117,
   "metadata": {},
   "outputs": [
    {
     "data": {
      "text/plain": [
       "Crime_Family1_ABUSE                   uint8\n",
       "Crime_Family1_ASSAULT & BATTERY       uint8\n",
       "Crime_Family1_BURGLARY                uint8\n",
       "Crime_Family1_CRIMINAL GANG           uint8\n",
       "Crime_Family1_DRUGS & ALCOHOL         uint8\n",
       "Crime_Family1_FIRE                    uint8\n",
       "Crime_Family1_GAMBLING                uint8\n",
       "Crime_Family1_HOMICIDE                uint8\n",
       "Crime_Family1_KIDNAPPING              uint8\n",
       "Crime_Family1_MISCELLANEOUS CRIMES    uint8\n",
       "Crime_Family1_PROTEST                 uint8\n",
       "Crime_Family1_SEXUAL MISCONDUCT       uint8\n",
       "Crime_Family1_TREASON                 uint8\n",
       "Crime_Family1_WHITE COLLAR            uint8\n",
       "CityRN_FOREIGN                        uint8\n",
       "CityRN_HOMELESS                       uint8\n",
       "CityRN_MIAMI                          uint8\n",
       "dtype: object"
      ]
     },
     "execution_count": 117,
     "metadata": {},
     "output_type": "execute_result"
    }
   ],
   "source": [
    "df.dtypes"
   ]
  },
  {
   "cell_type": "code",
   "execution_count": 118,
   "metadata": {},
   "outputs": [
    {
     "name": "stdout",
     "output_type": "stream",
     "text": [
      "(31006, 16) (31006, 1)\n"
     ]
    }
   ],
   "source": [
    "# Assign X (data) and y (target)\n",
    "\n",
    "### BEGIN SOLUTION\n",
    "X = df[[\n",
    "'Crime_Family1_ABUSE',\n",
    "'Crime_Family1_ASSAULT & BATTERY',\n",
    "'Crime_Family1_BURGLARY',\n",
    "'Crime_Family1_CRIMINAL GANG',\n",
    "'Crime_Family1_DRUGS & ALCOHOL', \n",
    "'Crime_Family1_PROTEST',\n",
    "'Crime_Family1_FIRE',\n",
    "'Crime_Family1_GAMBLING',\n",
    "'Crime_Family1_HOMICIDE',\n",
    "'Crime_Family1_KIDNAPPING',\n",
    "'Crime_Family1_MISCELLANEOUS CRIMES',\n",
    "'Crime_Family1_SEXUAL MISCONDUCT',\n",
    "'Crime_Family1_TREASON',\n",
    "'Crime_Family1_WHITE COLLAR',\n",
    "'CityRN_FOREIGN',\n",
    "'CityRN_HOMELESS']]\n",
    "y = df['CityRN_MIAMI'].values.reshape(-1, 1)\n",
    "print(X.shape, y.shape)\n",
    "### END SOLUTION"
   ]
  },
  {
   "cell_type": "code",
   "execution_count": 119,
   "metadata": {},
   "outputs": [],
   "source": [
    "# Split the data into training and testing\n",
    "\n",
    "### BEGIN SOLUTION\n",
    "from sklearn.model_selection import train_test_split\n",
    "\n",
    "X_train, X_test, y_train, y_test = train_test_split(X, y, random_state=42)\n",
    "### END SOLUTION"
   ]
  },
  {
   "cell_type": "code",
   "execution_count": 120,
   "metadata": {},
   "outputs": [],
   "source": [
    "from sklearn.preprocessing import StandardScaler\n",
    "\n",
    "# Create a StandardScater model and fit it to the training data\n",
    "\n",
    "### BEGIN SOLUTION\n",
    "X_scaler = StandardScaler().fit(X_train)\n",
    "y_scaler = StandardScaler().fit(y_train)\n",
    "### END SOLUTION"
   ]
  },
  {
   "cell_type": "code",
   "execution_count": 121,
   "metadata": {},
   "outputs": [],
   "source": [
    "# Transform the training and testing data using the X_scaler and y_scaler models\n",
    "\n",
    "### BEGIN SOLUTION\n",
    "X_train_scaled = X_scaler.transform(X_train)\n",
    "X_test_scaled = X_scaler.transform(X_test)\n",
    "y_train_scaled = y_scaler.transform(y_train)\n",
    "y_test_scaled = y_scaler.transform(y_test)\n",
    "### END SOLUTION"
   ]
  },
  {
   "cell_type": "code",
   "execution_count": 122,
   "metadata": {},
   "outputs": [
    {
     "data": {
      "text/plain": [
       "LinearRegression(copy_X=True, fit_intercept=True, n_jobs=None, normalize=False)"
      ]
     },
     "execution_count": 122,
     "metadata": {},
     "output_type": "execute_result"
    }
   ],
   "source": [
    "# Create a LinearRegression model and fit it to the scaled training data\n",
    "\n",
    "### BEGIN SOLUTION\n",
    "from sklearn.linear_model import LinearRegression\n",
    "model = LinearRegression()\n",
    "model.fit(X_train_scaled, y_train_scaled)\n",
    "### END SOLUTION"
   ]
  },
  {
   "cell_type": "code",
   "execution_count": 123,
   "metadata": {},
   "outputs": [
    {
     "data": {
      "image/png": "[encoded data removed]",
      "text/plain": [
       "<Figure size 432x288 with 1 Axes>"
      ]
     },
     "metadata": {
      "needs_background": "light"
     },
     "output_type": "display_data"
    }
   ],
   "source": [
    "# Make predictions using the X_test_scaled data\n",
    "# Plot y_test_scaled vs y_test_scaled\n",
    "# Scatter plot y_test_scaled vs predictions\n",
    "\n",
    "### BEGIN SOLUTION\n",
    "predictions = model.predict(X_test_scaled)\n",
    "model.fit(X_train_scaled, y_train_scaled)\n",
    "plt.scatter(model.predict(X_train_scaled), model.predict(X_train_scaled) - y_train_scaled, c=\"blue\", label=\"Training Data\")\n",
    "plt.scatter(model.predict(X_test_scaled), model.predict(X_test_scaled) - y_test_scaled, c=\"orange\", label=\"Testing Data\")\n",
    "plt.legend()\n",
    "plt.hlines(y=0, xmin=y_test_scaled.min(), xmax=y_test_scaled.max())\n",
    "plt.title(\"Residual Plot\")\n",
    "plt.show()\n",
    "### END SOLUTION"
   ]
  },
  {
   "cell_type": "code",
   "execution_count": 124,
   "metadata": {},
   "outputs": [
    {
     "name": "stdout",
     "output_type": "stream",
     "text": [
      "MSE: 8.794206991126921e-29, R2: 1.0\n"
     ]
    }
   ],
   "source": [
    "# Used X_test_scaled, y_test_scaled, and model.predict(X_test_scaled) to calculate MSE and R2\n",
    "\n",
    "### BEGIN SOLUTION\n",
    "from sklearn.metrics import mean_squared_error\n",
    "\n",
    "MSE = mean_squared_error(y_test_scaled, predictions)\n",
    "r2 = model.score(X_test_scaled, y_test_scaled)\n",
    "### END SOLUTION\n",
    "\n",
    "print(f\"MSE: {MSE}, R2: {r2}\")"
   ]
  },
  {
   "cell_type": "code",
   "execution_count": 125,
   "metadata": {},
   "outputs": [
    {
     "name": "stdout",
     "output_type": "stream",
     "text": [
      "MSE: 0.00023971510171294955, R2: 0.9997606331227711\n"
     ]
    }
   ],
   "source": [
    "# LASSO model\n",
    "# Note: Use an alpha of .01 when creating the model for this activity\n",
    "from sklearn.linear_model import Lasso\n",
    "\n",
    "### BEGIN SOLUTION\n",
    "lasso = Lasso(alpha=.01).fit(X_train_scaled, y_train_scaled)\n",
    "\n",
    "predictions = lasso.predict(X_test_scaled)\n",
    "\n",
    "MSE = mean_squared_error(y_test_scaled, predictions)\n",
    "r2 = lasso.score(X_test_scaled, y_test_scaled)\n",
    "### END SOLUTION\n",
    "\n",
    "print(f\"MSE: {MSE}, R2: {r2}\")"
   ]
  },
  {
   "cell_type": "code",
   "execution_count": 126,
   "metadata": {},
   "outputs": [
    {
     "name": "stdout",
     "output_type": "stream",
     "text": [
      "MSE: 2.6032335910130173e-13, R2: 0.9999999999997402\n"
     ]
    }
   ],
   "source": [
    "# Ridge model\n",
    "# Note: Use an alpha of .01 when creating the model for this activity\n",
    "from sklearn.linear_model import Ridge\n",
    "\n",
    "### BEGIN SOLUTION\n",
    "ridge = Ridge(alpha=.01).fit(X_train_scaled, y_train_scaled)\n",
    "\n",
    "predictions = ridge.predict(X_test_scaled)\n",
    "\n",
    "MSE = mean_squared_error(y_test_scaled, predictions)\n",
    "r2 = ridge.score(X_test_scaled, y_test_scaled)\n",
    "### END SOLUTION\n",
    "\n",
    "print(f\"MSE: {MSE}, R2: {r2}\")"
   ]
  },
  {
   "cell_type": "code",
   "execution_count": 127,
   "metadata": {},
   "outputs": [
    {
     "name": "stdout",
     "output_type": "stream",
     "text": [
      "MSE: 0.00018130666196569702, R2: 0.9998189567149278\n"
     ]
    }
   ],
   "source": [
    "# ElasticNet model\n",
    "# Note: Use an alpha of .01 when creating the model for this activity\n",
    "from sklearn.linear_model import ElasticNet\n",
    "\n",
    "### BEGIN SOLUTION\n",
    "elasticnet = ElasticNet(alpha=.01).fit(X_train_scaled, y_train_scaled)\n",
    "\n",
    "predictions = elasticnet.predict(X_test_scaled)\n",
    "\n",
    "MSE = mean_squared_error(y_test_scaled, predictions)\n",
    "r2 = elasticnet.score(X_test_scaled, y_test_scaled)\n",
    "### END SOLUTION\n",
    "\n",
    "print(f\"MSE: {MSE}, R2: {r2}\")"
   ]
  },
  {
   "cell_type": "code",
   "execution_count": null,
   "metadata": {},
   "outputs": [],
   "source": []
  },
  {
   "cell_type": "code",
   "execution_count": null,
   "metadata": {},
   "outputs": [],
   "source": []
  },
  {
   "cell_type": "code",
   "execution_count": null,
   "metadata": {},
   "outputs": [],
   "source": []
  }
 ],
 "metadata": {
  "kernelspec": {
   "display_name": "Python 3",
   "language": "python",
   "name": "python3"
  },
  "language_info": {
   "codemirror_mode": {
    "name": "ipython",
    "version": 3
   },
   "file_extension": ".py",
   "mimetype": "text/x-python",
   "name": "python",
   "nbconvert_exporter": "python",
   "pygments_lexer": "ipython3",
   "version": "3.6.7"
  }
 },
 "nbformat": 4,
 "nbformat_minor": 2
}
