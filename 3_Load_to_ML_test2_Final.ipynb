{
 "cells": [
  {
   "cell_type": "code",
   "execution_count": 19,
   "metadata": {},
   "outputs": [
    {
     "data": {
      "text/html": [
       "<div>\n",
       "<style scoped>\n",
       "    .dataframe tbody tr th:only-of-type {\n",
       "        vertical-align: middle;\n",
       "    }\n",
       "\n",
       "    .dataframe tbody tr th {\n",
       "        vertical-align: top;\n",
       "    }\n",
       "\n",
       "    .dataframe thead th {\n",
       "        text-align: right;\n",
       "    }\n",
       "</style>\n",
       "<table border=\"1\" class=\"dataframe\">\n",
       "  <thead>\n",
       "    <tr style=\"text-align: right;\">\n",
       "      <th></th>\n",
       "      <th>Unnamed: 0</th>\n",
       "      <th>Booking_year_month</th>\n",
       "      <th>total_crime</th>\n",
       "      <th>total_crime_3</th>\n",
       "      <th>age&lt;25_3</th>\n",
       "      <th>age26-50_3</th>\n",
       "      <th>age&gt;50_3</th>\n",
       "      <th>day_of_week_Monday_3</th>\n",
       "      <th>day_of_week_Tuesday_3</th>\n",
       "      <th>day_of_week_Wednesday_3</th>\n",
       "      <th>...</th>\n",
       "      <th>day_of_week_Friday_1</th>\n",
       "      <th>day_of_week_Saturday_1</th>\n",
       "      <th>day_of_week_Sunday_1</th>\n",
       "      <th>summer_1</th>\n",
       "      <th>spring_1</th>\n",
       "      <th>winter_1</th>\n",
       "      <th>autum_1</th>\n",
       "      <th>CityRN_FOREIGN_1</th>\n",
       "      <th>CityRN_HOMELESS_1</th>\n",
       "      <th>CityRN_MIAMI_1</th>\n",
       "    </tr>\n",
       "  </thead>\n",
       "  <tbody>\n",
       "    <tr>\n",
       "      <th>0</th>\n",
       "      <td>3</td>\n",
       "      <td>2015-08-01</td>\n",
       "      <td>153</td>\n",
       "      <td>14.0</td>\n",
       "      <td>3.0</td>\n",
       "      <td>7.0</td>\n",
       "      <td>4.0</td>\n",
       "      <td>0.0</td>\n",
       "      <td>0.0</td>\n",
       "      <td>0.0</td>\n",
       "      <td>...</td>\n",
       "      <td>23.0</td>\n",
       "      <td>21.0</td>\n",
       "      <td>14.0</td>\n",
       "      <td>1.0</td>\n",
       "      <td>0.0</td>\n",
       "      <td>0.0</td>\n",
       "      <td>0.0</td>\n",
       "      <td>2.0</td>\n",
       "      <td>52.0</td>\n",
       "      <td>54.0</td>\n",
       "    </tr>\n",
       "    <tr>\n",
       "      <th>1</th>\n",
       "      <td>4</td>\n",
       "      <td>2015-09-01</td>\n",
       "      <td>121</td>\n",
       "      <td>132.0</td>\n",
       "      <td>13.0</td>\n",
       "      <td>91.0</td>\n",
       "      <td>28.0</td>\n",
       "      <td>22.0</td>\n",
       "      <td>13.0</td>\n",
       "      <td>23.0</td>\n",
       "      <td>...</td>\n",
       "      <td>18.0</td>\n",
       "      <td>22.0</td>\n",
       "      <td>32.0</td>\n",
       "      <td>1.0</td>\n",
       "      <td>0.0</td>\n",
       "      <td>0.0</td>\n",
       "      <td>0.0</td>\n",
       "      <td>5.0</td>\n",
       "      <td>43.0</td>\n",
       "      <td>68.0</td>\n",
       "    </tr>\n",
       "    <tr>\n",
       "      <th>2</th>\n",
       "      <td>5</td>\n",
       "      <td>2015-10-01</td>\n",
       "      <td>156</td>\n",
       "      <td>142.0</td>\n",
       "      <td>18.0</td>\n",
       "      <td>92.0</td>\n",
       "      <td>32.0</td>\n",
       "      <td>14.0</td>\n",
       "      <td>13.0</td>\n",
       "      <td>29.0</td>\n",
       "      <td>...</td>\n",
       "      <td>13.0</td>\n",
       "      <td>10.0</td>\n",
       "      <td>16.0</td>\n",
       "      <td>1.0</td>\n",
       "      <td>0.0</td>\n",
       "      <td>0.0</td>\n",
       "      <td>0.0</td>\n",
       "      <td>5.0</td>\n",
       "      <td>44.0</td>\n",
       "      <td>46.0</td>\n",
       "    </tr>\n",
       "    <tr>\n",
       "      <th>3</th>\n",
       "      <td>6</td>\n",
       "      <td>2015-11-01</td>\n",
       "      <td>114</td>\n",
       "      <td>153.0</td>\n",
       "      <td>15.0</td>\n",
       "      <td>112.0</td>\n",
       "      <td>26.0</td>\n",
       "      <td>24.0</td>\n",
       "      <td>17.0</td>\n",
       "      <td>20.0</td>\n",
       "      <td>...</td>\n",
       "      <td>18.0</td>\n",
       "      <td>26.0</td>\n",
       "      <td>23.0</td>\n",
       "      <td>0.0</td>\n",
       "      <td>0.0</td>\n",
       "      <td>0.0</td>\n",
       "      <td>1.0</td>\n",
       "      <td>4.0</td>\n",
       "      <td>46.0</td>\n",
       "      <td>75.0</td>\n",
       "    </tr>\n",
       "    <tr>\n",
       "      <th>4</th>\n",
       "      <td>7</td>\n",
       "      <td>2015-12-01</td>\n",
       "      <td>129</td>\n",
       "      <td>121.0</td>\n",
       "      <td>11.0</td>\n",
       "      <td>84.0</td>\n",
       "      <td>26.0</td>\n",
       "      <td>13.0</td>\n",
       "      <td>22.0</td>\n",
       "      <td>23.0</td>\n",
       "      <td>...</td>\n",
       "      <td>13.0</td>\n",
       "      <td>17.0</td>\n",
       "      <td>8.0</td>\n",
       "      <td>0.0</td>\n",
       "      <td>0.0</td>\n",
       "      <td>0.0</td>\n",
       "      <td>1.0</td>\n",
       "      <td>3.0</td>\n",
       "      <td>42.0</td>\n",
       "      <td>52.0</td>\n",
       "    </tr>\n",
       "  </tbody>\n",
       "</table>\n",
       "<p>5 rows × 57 columns</p>\n",
       "</div>"
      ],
      "text/plain": [
       "   Unnamed: 0 Booking_year_month  total_crime  total_crime_3  age<25_3  \\\n",
       "0           3         2015-08-01          153           14.0       3.0   \n",
       "1           4         2015-09-01          121          132.0      13.0   \n",
       "2           5         2015-10-01          156          142.0      18.0   \n",
       "3           6         2015-11-01          114          153.0      15.0   \n",
       "4           7         2015-12-01          129          121.0      11.0   \n",
       "\n",
       "   age26-50_3  age>50_3  day_of_week_Monday_3  day_of_week_Tuesday_3  \\\n",
       "0         7.0       4.0                   0.0                    0.0   \n",
       "1        91.0      28.0                  22.0                   13.0   \n",
       "2        92.0      32.0                  14.0                   13.0   \n",
       "3       112.0      26.0                  24.0                   17.0   \n",
       "4        84.0      26.0                  13.0                   22.0   \n",
       "\n",
       "   day_of_week_Wednesday_3       ...        day_of_week_Friday_1  \\\n",
       "0                      0.0       ...                        23.0   \n",
       "1                     23.0       ...                        18.0   \n",
       "2                     29.0       ...                        13.0   \n",
       "3                     20.0       ...                        18.0   \n",
       "4                     23.0       ...                        13.0   \n",
       "\n",
       "   day_of_week_Saturday_1  day_of_week_Sunday_1  summer_1  spring_1  winter_1  \\\n",
       "0                    21.0                  14.0       1.0       0.0       0.0   \n",
       "1                    22.0                  32.0       1.0       0.0       0.0   \n",
       "2                    10.0                  16.0       1.0       0.0       0.0   \n",
       "3                    26.0                  23.0       0.0       0.0       0.0   \n",
       "4                    17.0                   8.0       0.0       0.0       0.0   \n",
       "\n",
       "   autum_1  CityRN_FOREIGN_1  CityRN_HOMELESS_1  CityRN_MIAMI_1  \n",
       "0      0.0               2.0               52.0            54.0  \n",
       "1      0.0               5.0               43.0            68.0  \n",
       "2      0.0               5.0               44.0            46.0  \n",
       "3      1.0               4.0               46.0            75.0  \n",
       "4      1.0               3.0               42.0            52.0  \n",
       "\n",
       "[5 rows x 57 columns]"
      ]
     },
     "execution_count": 19,
     "metadata": {},
     "output_type": "execute_result"
    }
   ],
   "source": [
    "import pandas as pd\n",
    "# import matplotlib.pylab as plt\n",
    "import matplotlib.pyplot as plt\n",
    "%matplotlib inline\n",
    "import numpy as np\n",
    "\n",
    "## Battery and assault\n",
    "df = pd.read_csv('ResourcesCH/data3_load_assault_group_to_ML.csv',parse_dates =[\"Booking_year_month\"])\n",
    "df.head()"
   ]
  },
  {
   "cell_type": "code",
   "execution_count": 20,
   "metadata": {},
   "outputs": [
    {
     "data": {
      "text/plain": [
       "Index(['Unnamed: 0', 'Booking_year_month', 'total_crime', 'total_crime_3',\n",
       "       'age<25_3', 'age26-50_3', 'age>50_3', 'day_of_week_Monday_3',\n",
       "       'day_of_week_Tuesday_3', 'day_of_week_Wednesday_3',\n",
       "       'day_of_week_Thursday_3', 'day_of_week_Friday_3',\n",
       "       'day_of_week_Saturday_3', 'day_of_week_Sunday_3', 'summer_3',\n",
       "       'spring_3', 'winter_3', 'autum_3', 'CityRN_FOREIGN_3',\n",
       "       'CityRN_HOMELESS_3', 'CityRN_MIAMI_3', 'total_crime_2', 'Age<25_2',\n",
       "       'Age26-50_2', 'Age>50_2', 'day_of_week_Monday_2',\n",
       "       'day_of_week_Tuesday_2', 'day_of_week_Wednesday_2',\n",
       "       'day_of_week_Thursday_2', 'day_of_week_Friday_2',\n",
       "       'day_of_week_Saturday_2', 'day_of_week_Sunday_2', 'summer_2',\n",
       "       'spring_2', 'winter_2', 'autum_2', 'CityRN_FOREIGN_2',\n",
       "       'CityRN_HOMELESS_2', 'CityRN_MIAMI_2', 'total_crime_1', 'age<25_1',\n",
       "       'age26-50_1', 'age>50_1', 'day_of_week_Monday_1',\n",
       "       'day_of_week_Tuesday_1', 'day_of_week_Wednesday_1',\n",
       "       'day_of_week_Thursday_1', 'day_of_week_Friday_1',\n",
       "       'day_of_week_Saturday_1', 'day_of_week_Sunday_1', 'summer_1',\n",
       "       'spring_1', 'winter_1', 'autum_1', 'CityRN_FOREIGN_1',\n",
       "       'CityRN_HOMELESS_1', 'CityRN_MIAMI_1'],\n",
       "      dtype='object')"
      ]
     },
     "execution_count": 20,
     "metadata": {},
     "output_type": "execute_result"
    }
   ],
   "source": [
    "df.columns"
   ]
  },
  {
   "cell_type": "code",
   "execution_count": 21,
   "metadata": {},
   "outputs": [],
   "source": [
    "#normalizar\n",
    "#standar scaler\n",
    "\n",
    "# Drop innecesary columns\n",
    "df.drop(['Unnamed: 0', 'Booking_year_month'], axis=1, inplace=True)\n",
    "# df['total_crime']= df['total_crime'].astype(float)"
   ]
  },
  {
   "cell_type": "code",
   "execution_count": 22,
   "metadata": {},
   "outputs": [
    {
     "data": {
      "text/html": [
       "<div>\n",
       "<style scoped>\n",
       "    .dataframe tbody tr th:only-of-type {\n",
       "        vertical-align: middle;\n",
       "    }\n",
       "\n",
       "    .dataframe tbody tr th {\n",
       "        vertical-align: top;\n",
       "    }\n",
       "\n",
       "    .dataframe thead th {\n",
       "        text-align: right;\n",
       "    }\n",
       "</style>\n",
       "<table border=\"1\" class=\"dataframe\">\n",
       "  <thead>\n",
       "    <tr style=\"text-align: right;\">\n",
       "      <th></th>\n",
       "      <th>total_crime</th>\n",
       "      <th>total_crime_3</th>\n",
       "      <th>age&lt;25_3</th>\n",
       "      <th>age26-50_3</th>\n",
       "      <th>age&gt;50_3</th>\n",
       "      <th>day_of_week_Monday_3</th>\n",
       "      <th>day_of_week_Tuesday_3</th>\n",
       "      <th>day_of_week_Wednesday_3</th>\n",
       "      <th>day_of_week_Thursday_3</th>\n",
       "      <th>day_of_week_Friday_3</th>\n",
       "      <th>...</th>\n",
       "      <th>day_of_week_Friday_1</th>\n",
       "      <th>day_of_week_Saturday_1</th>\n",
       "      <th>day_of_week_Sunday_1</th>\n",
       "      <th>summer_1</th>\n",
       "      <th>spring_1</th>\n",
       "      <th>winter_1</th>\n",
       "      <th>autum_1</th>\n",
       "      <th>CityRN_FOREIGN_1</th>\n",
       "      <th>CityRN_HOMELESS_1</th>\n",
       "      <th>CityRN_MIAMI_1</th>\n",
       "    </tr>\n",
       "  </thead>\n",
       "  <tbody>\n",
       "    <tr>\n",
       "      <th>0</th>\n",
       "      <td>153</td>\n",
       "      <td>14.0</td>\n",
       "      <td>3.0</td>\n",
       "      <td>7.0</td>\n",
       "      <td>4.0</td>\n",
       "      <td>0.0</td>\n",
       "      <td>0.0</td>\n",
       "      <td>0.0</td>\n",
       "      <td>0.0</td>\n",
       "      <td>3.0</td>\n",
       "      <td>...</td>\n",
       "      <td>23.0</td>\n",
       "      <td>21.0</td>\n",
       "      <td>14.0</td>\n",
       "      <td>1.0</td>\n",
       "      <td>0.0</td>\n",
       "      <td>0.0</td>\n",
       "      <td>0.0</td>\n",
       "      <td>2.0</td>\n",
       "      <td>52.0</td>\n",
       "      <td>54.0</td>\n",
       "    </tr>\n",
       "    <tr>\n",
       "      <th>1</th>\n",
       "      <td>121</td>\n",
       "      <td>132.0</td>\n",
       "      <td>13.0</td>\n",
       "      <td>91.0</td>\n",
       "      <td>28.0</td>\n",
       "      <td>22.0</td>\n",
       "      <td>13.0</td>\n",
       "      <td>23.0</td>\n",
       "      <td>24.0</td>\n",
       "      <td>19.0</td>\n",
       "      <td>...</td>\n",
       "      <td>18.0</td>\n",
       "      <td>22.0</td>\n",
       "      <td>32.0</td>\n",
       "      <td>1.0</td>\n",
       "      <td>0.0</td>\n",
       "      <td>0.0</td>\n",
       "      <td>0.0</td>\n",
       "      <td>5.0</td>\n",
       "      <td>43.0</td>\n",
       "      <td>68.0</td>\n",
       "    </tr>\n",
       "    <tr>\n",
       "      <th>2</th>\n",
       "      <td>156</td>\n",
       "      <td>142.0</td>\n",
       "      <td>18.0</td>\n",
       "      <td>92.0</td>\n",
       "      <td>32.0</td>\n",
       "      <td>14.0</td>\n",
       "      <td>13.0</td>\n",
       "      <td>29.0</td>\n",
       "      <td>28.0</td>\n",
       "      <td>23.0</td>\n",
       "      <td>...</td>\n",
       "      <td>13.0</td>\n",
       "      <td>10.0</td>\n",
       "      <td>16.0</td>\n",
       "      <td>1.0</td>\n",
       "      <td>0.0</td>\n",
       "      <td>0.0</td>\n",
       "      <td>0.0</td>\n",
       "      <td>5.0</td>\n",
       "      <td>44.0</td>\n",
       "      <td>46.0</td>\n",
       "    </tr>\n",
       "    <tr>\n",
       "      <th>3</th>\n",
       "      <td>114</td>\n",
       "      <td>153.0</td>\n",
       "      <td>15.0</td>\n",
       "      <td>112.0</td>\n",
       "      <td>26.0</td>\n",
       "      <td>24.0</td>\n",
       "      <td>17.0</td>\n",
       "      <td>20.0</td>\n",
       "      <td>20.0</td>\n",
       "      <td>18.0</td>\n",
       "      <td>...</td>\n",
       "      <td>18.0</td>\n",
       "      <td>26.0</td>\n",
       "      <td>23.0</td>\n",
       "      <td>0.0</td>\n",
       "      <td>0.0</td>\n",
       "      <td>0.0</td>\n",
       "      <td>1.0</td>\n",
       "      <td>4.0</td>\n",
       "      <td>46.0</td>\n",
       "      <td>75.0</td>\n",
       "    </tr>\n",
       "    <tr>\n",
       "      <th>4</th>\n",
       "      <td>129</td>\n",
       "      <td>121.0</td>\n",
       "      <td>11.0</td>\n",
       "      <td>84.0</td>\n",
       "      <td>26.0</td>\n",
       "      <td>13.0</td>\n",
       "      <td>22.0</td>\n",
       "      <td>23.0</td>\n",
       "      <td>24.0</td>\n",
       "      <td>13.0</td>\n",
       "      <td>...</td>\n",
       "      <td>13.0</td>\n",
       "      <td>17.0</td>\n",
       "      <td>8.0</td>\n",
       "      <td>0.0</td>\n",
       "      <td>0.0</td>\n",
       "      <td>0.0</td>\n",
       "      <td>1.0</td>\n",
       "      <td>3.0</td>\n",
       "      <td>42.0</td>\n",
       "      <td>52.0</td>\n",
       "    </tr>\n",
       "  </tbody>\n",
       "</table>\n",
       "<p>5 rows × 55 columns</p>\n",
       "</div>"
      ],
      "text/plain": [
       "   total_crime  total_crime_3  age<25_3  age26-50_3  age>50_3  \\\n",
       "0          153           14.0       3.0         7.0       4.0   \n",
       "1          121          132.0      13.0        91.0      28.0   \n",
       "2          156          142.0      18.0        92.0      32.0   \n",
       "3          114          153.0      15.0       112.0      26.0   \n",
       "4          129          121.0      11.0        84.0      26.0   \n",
       "\n",
       "   day_of_week_Monday_3  day_of_week_Tuesday_3  day_of_week_Wednesday_3  \\\n",
       "0                   0.0                    0.0                      0.0   \n",
       "1                  22.0                   13.0                     23.0   \n",
       "2                  14.0                   13.0                     29.0   \n",
       "3                  24.0                   17.0                     20.0   \n",
       "4                  13.0                   22.0                     23.0   \n",
       "\n",
       "   day_of_week_Thursday_3  day_of_week_Friday_3       ...        \\\n",
       "0                     0.0                   3.0       ...         \n",
       "1                    24.0                  19.0       ...         \n",
       "2                    28.0                  23.0       ...         \n",
       "3                    20.0                  18.0       ...         \n",
       "4                    24.0                  13.0       ...         \n",
       "\n",
       "   day_of_week_Friday_1  day_of_week_Saturday_1  day_of_week_Sunday_1  \\\n",
       "0                  23.0                    21.0                  14.0   \n",
       "1                  18.0                    22.0                  32.0   \n",
       "2                  13.0                    10.0                  16.0   \n",
       "3                  18.0                    26.0                  23.0   \n",
       "4                  13.0                    17.0                   8.0   \n",
       "\n",
       "   summer_1  spring_1  winter_1  autum_1  CityRN_FOREIGN_1  CityRN_HOMELESS_1  \\\n",
       "0       1.0       0.0       0.0      0.0               2.0               52.0   \n",
       "1       1.0       0.0       0.0      0.0               5.0               43.0   \n",
       "2       1.0       0.0       0.0      0.0               5.0               44.0   \n",
       "3       0.0       0.0       0.0      1.0               4.0               46.0   \n",
       "4       0.0       0.0       0.0      1.0               3.0               42.0   \n",
       "\n",
       "   CityRN_MIAMI_1  \n",
       "0            54.0  \n",
       "1            68.0  \n",
       "2            46.0  \n",
       "3            75.0  \n",
       "4            52.0  \n",
       "\n",
       "[5 rows x 55 columns]"
      ]
     },
     "execution_count": 22,
     "metadata": {},
     "output_type": "execute_result"
    }
   ],
   "source": [
    "df.head()"
   ]
  },
  {
   "cell_type": "code",
   "execution_count": 32,
   "metadata": {},
   "outputs": [
    {
     "name": "stdout",
     "output_type": "stream",
     "text": [
      "(47, 54) (47, 1)\n"
     ]
    }
   ],
   "source": [
    "\n",
    "# Use sklearn's `train_test_split` to split the data into training and testing\n",
    "\n",
    "from sklearn.model_selection import train_test_split\n",
    "\n",
    "### Arreglar quien es X y Y!!!!\n",
    "\n",
    "X = df[['total_crime_3',\n",
    "       'age<25_3', 'age26-50_3', 'age>50_3', 'day_of_week_Monday_3',\n",
    "       'day_of_week_Tuesday_3', 'day_of_week_Wednesday_3',\n",
    "       'day_of_week_Thursday_3', 'day_of_week_Friday_3',\n",
    "       'day_of_week_Saturday_3', 'day_of_week_Sunday_3', 'summer_3',\n",
    "       'spring_3', 'winter_3', 'autum_3', 'CityRN_FOREIGN_3',\n",
    "       'CityRN_HOMELESS_3', 'CityRN_MIAMI_3', 'total_crime_2', 'Age<25_2',\n",
    "       'Age26-50_2', 'Age>50_2', 'day_of_week_Monday_2',\n",
    "       'day_of_week_Tuesday_2', 'day_of_week_Wednesday_2',\n",
    "       'day_of_week_Thursday_2', 'day_of_week_Friday_2',\n",
    "       'day_of_week_Saturday_2', 'day_of_week_Sunday_2', 'summer_2',\n",
    "       'spring_2', 'winter_2', 'autum_2', 'CityRN_FOREIGN_2',\n",
    "       'CityRN_HOMELESS_2', 'CityRN_MIAMI_2', 'total_crime_1', 'age<25_1',\n",
    "       'age26-50_1', 'age>50_1', 'day_of_week_Monday_1',\n",
    "       'day_of_week_Tuesday_1', 'day_of_week_Wednesday_1',\n",
    "       'day_of_week_Thursday_1', 'day_of_week_Friday_1',\n",
    "       'day_of_week_Saturday_1', 'day_of_week_Sunday_1', 'summer_1',\n",
    "       'spring_1', 'winter_1', 'autum_1', 'CityRN_FOREIGN_1',\n",
    "       'CityRN_HOMELESS_1', 'CityRN_MIAMI_1']]\n",
    "y = df['total_crime'].values.reshape(-1, 1)\n",
    "print(X.shape, y.shape)\n",
    "\n",
    "\n",
    "# Use sklearn's `train_test_split` to split the data into training and testing\n",
    "# the split of the data in not aleatory \"test_size=10\"\n",
    "\n",
    "X_train, X_test, y_train, y_test = train_test_split(X, y, shuffle=False, test_size=10)"
   ]
  },
  {
   "cell_type": "code",
   "execution_count": 34,
   "metadata": {},
   "outputs": [],
   "source": [
    "from sklearn.preprocessing import StandardScaler\n",
    "\n",
    "# Create a StandardScaler model and fit it to the training data\n",
    "\n",
    "X_scaler = StandardScaler().fit(X_train)\n",
    "y_scaler = StandardScaler().fit(y_train)\n",
    "\n",
    "\n",
    "X_train_scaled = X_scaler.transform(X_train)\n",
    "X_test_scaled = X_scaler.transform(X_test)\n",
    "y_train_scaled = y_scaler.transform(y_train)\n",
    "y_test_scaled = y_scaler.transform(y_test)"
   ]
  },
  {
   "cell_type": "code",
   "execution_count": 40,
   "metadata": {},
   "outputs": [
    {
     "name": "stdout",
     "output_type": "stream",
     "text": [
      "Mean Absolute Error =  13.416999999999998\n",
      "Mean Squarred Erro=  225.86173000000008\n"
     ]
    },
    {
     "name": "stderr",
     "output_type": "stream",
     "text": [
      "C:\\Users\\cmuiz\\Anaconda3\\envs\\PythonData\\lib\\site-packages\\ipykernel_launcher.py:9: DataConversionWarning: A column-vector y was passed when a 1d array was expected. Please change the shape of y to (n_samples,), for example using ravel().\n",
      "  if __name__ == '__main__':\n"
     ]
    }
   ],
   "source": [
    "from sklearn.ensemble import RandomForestRegressor\n",
    "from sklearn.metrics import mean_absolute_error, mean_squared_error, r2_score\n",
    "\n",
    "#We are using the Random Forest model with 100 trees, and with the random seed = 1\n",
    "model = RandomForestRegressor(n_estimators=100, random_state=1)\n",
    "\n",
    "# Fitting our model with all of our features in X\n",
    "\n",
    "model.fit(X_train_scaled , y_train_scaled)\n",
    "y_prediction = model.predict(X_test_scaled)\n",
    "y_prediction = y_scaler.inverse_transform(y_prediction)\n",
    "\n",
    "# Calculate the MAE and MSE()\n",
    "mae = mean_absolute_error(y_prediction, y_test)\n",
    "mse = mean_squared_error(y_prediction, y_test)\n",
    "\n",
    "# Please note, the MSE do not is affect by the negative difference values. ex\n",
    "print(\"Mean Absolute Error = \", mae) \n",
    "print(\"Mean Squarred Erro= \", mse) \n",
    "#r2 = r2_score(y_prediction, y_test)\n",
    "#print(\"R2 score = \", r2)"
   ]
  },
  {
   "cell_type": "code",
   "execution_count": 41,
   "metadata": {},
   "outputs": [],
   "source": [
    "# The Dtaa has been scaled, we will transform the dat\n",
    "y_train_predict=model.predict(X_train_scaled)\n",
    "y_train_predict=y_scaler.inverse_transform(y_train_predict)"
   ]
  },
  {
   "cell_type": "code",
   "execution_count": 37,
   "metadata": {},
   "outputs": [],
   "source": [
    "y_test_predict=model.predict(X_test_scaled)\n",
    "y_test_predict=y_scaler.inverse_transform(y_test_predict)"
   ]
  },
  {
   "cell_type": "code",
   "execution_count": 38,
   "metadata": {},
   "outputs": [
    {
     "data": {
      "text/plain": [
       "37"
      ]
     },
     "execution_count": 38,
     "metadata": {},
     "output_type": "execute_result"
    }
   ],
   "source": [
    "len(y_train_predict)"
   ]
  },
  {
   "cell_type": "code",
   "execution_count": 56,
   "metadata": {
    "scrolled": true
   },
   "outputs": [
    {
     "data": {
      "image/png": "[encoded data removed]",
      "text/plain": [
       "<Figure size 1440x504 with 1 Axes>"
      ]
     },
     "metadata": {
      "needs_background": "light"
     },
     "output_type": "display_data"
    }
   ],
   "source": [
    "## Plot The Train data predicted vs the train Dta.\n",
    "## and the test prodict vs the test\n",
    "\n",
    "plt.figure(figsize=(20,7))\n",
    "date_train_range = range(len(y_train_predict))\n",
    "plt.plot(date_train_range , y_train_predict, marker='+', color='blue')\n",
    "plt.plot(date_train_range , y_train, marker='v', color='green')\n",
    "date_test_range = range(len(y_train_predict),len(y))\n",
    "plt.plot(date_test_range, y_test, marker='8', color='yellow')\n",
    "plt.plot(date_test_range, y_test_predict, marker='o', color='red')\n",
    "plt.title(\"Random Forest\")\n",
    "plt.xlabel(\"Time\")\n",
    "plt.ylabel(\"Crime\")\n",
    "plt.savefig(\"RandomForest.png\")"
   ]
  },
  {
   "cell_type": "code",
   "execution_count": 42,
   "metadata": {},
   "outputs": [],
   "source": [
    "# The original data has an array format, to can get the differer=nce we need to :\n",
    "\n",
    "date_train_range = np.array([i for i in date_train_range])\n",
    "date_test_range = np.array([i for i in date_test_range])\n",
    "\n",
    "# the values for ythe Residual plot\n",
    "train_perc =np.array((y_train.reshape(-1,1) - y_train_predict.reshape(-1,1))*100/y_train.reshape(-1,1))\n",
    "test_perc =np.array((y_test.reshape(-1,1) - y_test_predict.reshape(-1,1))*100/y_test.reshape(-1,1))\n",
    "#train_perc"
   ]
  },
  {
   "cell_type": "code",
   "execution_count": 44,
   "metadata": {},
   "outputs": [
    {
     "data": {
      "image/png": "[encoded data removed]",
      "text/plain": [
       "<Figure size 1440x504 with 1 Axes>"
      ]
     },
     "metadata": {
      "needs_background": "light"
     },
     "output_type": "display_data"
    },
    {
     "data": {
      "text/plain": [
       "<Figure size 432x288 with 0 Axes>"
      ]
     },
     "metadata": {},
     "output_type": "display_data"
    }
   ],
   "source": [
    "# #Residual Plot\n",
    "plt.figure(figsize=(20,7))\n",
    "\n",
    "\n",
    "\n",
    "plt.scatter(date_train_range, train_perc, c=\"blue\", label=\"Training Data\")\n",
    "plt.scatter(date_test_range, test_perc, c=\"orange\", label=\"Testing Data\")\n",
    "plt.legend()\n",
    "plt.hlines(y=0, xmin=-5, xmax=50)\n",
    "plt.title(\"Residual Plot\")\n",
    "plt.show()\n",
    "plt.savefig(\"Residual_Plot.png\")"
   ]
  },
  {
   "cell_type": "code",
   "execution_count": 46,
   "metadata": {},
   "outputs": [],
   "source": [
    "# ## Linear Regression\n",
    "\n",
    "# from sklearn.linear_model import LinearRegression\n",
    "# from sklearn.metrics import mean_absolute_error, mean_squared_error, r2_score\n",
    "# model = LinearRegression()\n",
    "# # Fitting our model with all of our features in X\n",
    "# model.fit(X_train_scaled , y_train_scaled)\n",
    "# y_prediction = model.predict(X_test_scaled)\n",
    "# y_prediction = y_scaler.inverse_transform(y_prediction)\n",
    "# mae = mean_absolute_error(y_prediction, y_test)\n",
    "# mse = mean_squared_error(y_prediction, y_test)\n",
    "# r2 = r2_score(y_prediction, y_test)\n",
    "# print(\"Mean Absolute Error = \", mae)\n",
    "# print(\"Mean Squarred Erro= \", mse)\n",
    "# print(\"R2 score = \", r2)"
   ]
  },
  {
   "cell_type": "code",
   "execution_count": 47,
   "metadata": {},
   "outputs": [],
   "source": [
    "# y_train_predict=model.predict(X_train_scaled)\n",
    "# y_train_predict=y_scaler.inverse_transform(y_train_predict)"
   ]
  },
  {
   "cell_type": "code",
   "execution_count": 49,
   "metadata": {},
   "outputs": [],
   "source": [
    "# y_test_predict=model.predict(X_test_scaled)\n",
    "# y_test_predict=y_scaler.inverse_transform(y_test_predict)"
   ]
  },
  {
   "cell_type": "code",
   "execution_count": 50,
   "metadata": {},
   "outputs": [],
   "source": [
    "# len(y_train_predict)"
   ]
  },
  {
   "cell_type": "code",
   "execution_count": 51,
   "metadata": {},
   "outputs": [],
   "source": [
    "# plt.figure(figsize=(20,7))\n",
    "\n",
    "# x_train = range(len(y_train_predict))\n",
    "# plt.plot(x_train, y_train_predict, marker='+', color='blue')\n",
    "# plt.plot(x_train, y_train, marker='v', color='green')\n",
    "# x_test = range(len(y_train_predict),len(y))\n",
    "# plt.plot(x_test, y_test, marker='8', color='yellow')\n",
    "# plt.plot(x_test, y_test_predict, marker='o', color='red')\n"
   ]
  },
  {
   "cell_type": "code",
   "execution_count": 52,
   "metadata": {},
   "outputs": [],
   "source": [
    "# #Residual Plot\n",
    "# plt.figure(figsize=(20,7))\n",
    "\n",
    "# plt.scatter(x_train, y_train_predict - y_train, c=\"blue\", label=\"Training Data\")\n",
    "# plt.scatter(x_test, y_test_predict - y_test, c=\"orange\", label=\"Testing Data\")\n",
    "# plt.legend()\n",
    "# plt.hlines(y=0, xmin=-10, xmax=60)\n",
    "# plt.title(\"Residual Plot\")\n",
    "# plt.show()"
   ]
  },
  {
   "cell_type": "code",
   "execution_count": null,
   "metadata": {},
   "outputs": [],
   "source": []
  },
  {
   "cell_type": "code",
   "execution_count": null,
   "metadata": {},
   "outputs": [],
   "source": [
    "#model.predict(X_test_scaled)"
   ]
  },
  {
   "cell_type": "code",
   "execution_count": null,
   "metadata": {},
   "outputs": [],
   "source": [
    "#y_test_scaled"
   ]
  },
  {
   "cell_type": "code",
   "execution_count": null,
   "metadata": {},
   "outputs": [],
   "source": [
    "#y_scaler.inverse_transform(y_test_scaled)"
   ]
  },
  {
   "cell_type": "code",
   "execution_count": null,
   "metadata": {},
   "outputs": [],
   "source": [
    "#y_pred=model.predict(X_test_scaled)\n",
    "#y_scaler.inverse_transform(y_pred)"
   ]
  },
  {
   "cell_type": "code",
   "execution_count": null,
   "metadata": {},
   "outputs": [],
   "source": []
  },
  {
   "cell_type": "code",
   "execution_count": null,
   "metadata": {},
   "outputs": [],
   "source": []
  }
 ],
 "metadata": {
  "kernelspec": {
   "display_name": "Python 3",
   "language": "python",
   "name": "python3"
  },
  "language_info": {
   "codemirror_mode": {
    "name": "ipython",
    "version": 3
   },
   "file_extension": ".py",
   "mimetype": "text/x-python",
   "name": "python",
   "nbconvert_exporter": "python",
   "pygments_lexer": "ipython3",
   "version": "3.6.7"
  }
 },
 "nbformat": 4,
 "nbformat_minor": 2
}
