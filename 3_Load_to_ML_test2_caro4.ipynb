{
 "cells": [
  {
   "cell_type": "code",
   "execution_count": 10,
   "metadata": {},
   "outputs": [],
   "source": [
    "%matplotlib inline\n",
    "import matplotlib.pyplot as plt\n",
    "import numpy as np\n",
    "import pandas as pd"
   ]
  },
  {
   "cell_type": "code",
   "execution_count": 11,
   "metadata": {},
   "outputs": [
    {
     "data": {
      "text/html": [
       "<div>\n",
       "<style scoped>\n",
       "    .dataframe tbody tr th:only-of-type {\n",
       "        vertical-align: middle;\n",
       "    }\n",
       "\n",
       "    .dataframe tbody tr th {\n",
       "        vertical-align: top;\n",
       "    }\n",
       "\n",
       "    .dataframe thead th {\n",
       "        text-align: right;\n",
       "    }\n",
       "</style>\n",
       "<table border=\"1\" class=\"dataframe\">\n",
       "  <thead>\n",
       "    <tr style=\"text-align: right;\">\n",
       "      <th></th>\n",
       "      <th>Unnamed: 0</th>\n",
       "      <th>Booking_year_month</th>\n",
       "      <th>DOB_month</th>\n",
       "      <th>total_crime</th>\n",
       "      <th>age&lt;25_1</th>\n",
       "      <th>age26-50_1</th>\n",
       "      <th>age&gt;50_1</th>\n",
       "      <th>day_of_week_Monday_1</th>\n",
       "      <th>day_of_week_Tuesday_1</th>\n",
       "      <th>day_of_week_Wednesday_1</th>\n",
       "      <th>...</th>\n",
       "      <th>day_of_week_Friday_1</th>\n",
       "      <th>day_of_week_Saturday_1</th>\n",
       "      <th>day_of_week_Sunday_1</th>\n",
       "      <th>summer_1</th>\n",
       "      <th>spring_1</th>\n",
       "      <th>winter_1</th>\n",
       "      <th>autum_1</th>\n",
       "      <th>CityRN_FOREIGN_1</th>\n",
       "      <th>CityRN_HOMELESS_1</th>\n",
       "      <th>CityRN_MIAMI_1</th>\n",
       "    </tr>\n",
       "  </thead>\n",
       "  <tbody>\n",
       "    <tr>\n",
       "      <th>0</th>\n",
       "      <td>3</td>\n",
       "      <td>2015-08-01</td>\n",
       "      <td>1013</td>\n",
       "      <td>142</td>\n",
       "      <td>18</td>\n",
       "      <td>92</td>\n",
       "      <td>32</td>\n",
       "      <td>14</td>\n",
       "      <td>13</td>\n",
       "      <td>29</td>\n",
       "      <td>...</td>\n",
       "      <td>23</td>\n",
       "      <td>21</td>\n",
       "      <td>14</td>\n",
       "      <td>142</td>\n",
       "      <td>0</td>\n",
       "      <td>0</td>\n",
       "      <td>0</td>\n",
       "      <td>13</td>\n",
       "      <td>52</td>\n",
       "      <td>77</td>\n",
       "    </tr>\n",
       "    <tr>\n",
       "      <th>1</th>\n",
       "      <td>4</td>\n",
       "      <td>2015-09-01</td>\n",
       "      <td>803</td>\n",
       "      <td>153</td>\n",
       "      <td>15</td>\n",
       "      <td>112</td>\n",
       "      <td>26</td>\n",
       "      <td>24</td>\n",
       "      <td>17</td>\n",
       "      <td>20</td>\n",
       "      <td>...</td>\n",
       "      <td>18</td>\n",
       "      <td>22</td>\n",
       "      <td>32</td>\n",
       "      <td>153</td>\n",
       "      <td>0</td>\n",
       "      <td>0</td>\n",
       "      <td>0</td>\n",
       "      <td>14</td>\n",
       "      <td>43</td>\n",
       "      <td>96</td>\n",
       "    </tr>\n",
       "    <tr>\n",
       "      <th>2</th>\n",
       "      <td>5</td>\n",
       "      <td>2015-10-01</td>\n",
       "      <td>1057</td>\n",
       "      <td>121</td>\n",
       "      <td>11</td>\n",
       "      <td>84</td>\n",
       "      <td>26</td>\n",
       "      <td>13</td>\n",
       "      <td>22</td>\n",
       "      <td>23</td>\n",
       "      <td>...</td>\n",
       "      <td>13</td>\n",
       "      <td>10</td>\n",
       "      <td>16</td>\n",
       "      <td>121</td>\n",
       "      <td>0</td>\n",
       "      <td>0</td>\n",
       "      <td>0</td>\n",
       "      <td>11</td>\n",
       "      <td>44</td>\n",
       "      <td>66</td>\n",
       "    </tr>\n",
       "    <tr>\n",
       "      <th>3</th>\n",
       "      <td>6</td>\n",
       "      <td>2015-11-01</td>\n",
       "      <td>774</td>\n",
       "      <td>156</td>\n",
       "      <td>16</td>\n",
       "      <td>92</td>\n",
       "      <td>48</td>\n",
       "      <td>13</td>\n",
       "      <td>16</td>\n",
       "      <td>21</td>\n",
       "      <td>...</td>\n",
       "      <td>18</td>\n",
       "      <td>26</td>\n",
       "      <td>23</td>\n",
       "      <td>0</td>\n",
       "      <td>0</td>\n",
       "      <td>0</td>\n",
       "      <td>156</td>\n",
       "      <td>10</td>\n",
       "      <td>46</td>\n",
       "      <td>100</td>\n",
       "    </tr>\n",
       "    <tr>\n",
       "      <th>4</th>\n",
       "      <td>7</td>\n",
       "      <td>2015-12-01</td>\n",
       "      <td>891</td>\n",
       "      <td>114</td>\n",
       "      <td>4</td>\n",
       "      <td>81</td>\n",
       "      <td>29</td>\n",
       "      <td>18</td>\n",
       "      <td>18</td>\n",
       "      <td>25</td>\n",
       "      <td>...</td>\n",
       "      <td>13</td>\n",
       "      <td>17</td>\n",
       "      <td>8</td>\n",
       "      <td>0</td>\n",
       "      <td>0</td>\n",
       "      <td>0</td>\n",
       "      <td>114</td>\n",
       "      <td>5</td>\n",
       "      <td>42</td>\n",
       "      <td>67</td>\n",
       "    </tr>\n",
       "  </tbody>\n",
       "</table>\n",
       "<p>5 rows × 21 columns</p>\n",
       "</div>"
      ],
      "text/plain": [
       "   Unnamed: 0 Booking_year_month  DOB_month  total_crime  age<25_1  \\\n",
       "0           3         2015-08-01       1013          142        18   \n",
       "1           4         2015-09-01        803          153        15   \n",
       "2           5         2015-10-01       1057          121        11   \n",
       "3           6         2015-11-01        774          156        16   \n",
       "4           7         2015-12-01        891          114         4   \n",
       "\n",
       "   age26-50_1  age>50_1  day_of_week_Monday_1  day_of_week_Tuesday_1  \\\n",
       "0          92        32                    14                     13   \n",
       "1         112        26                    24                     17   \n",
       "2          84        26                    13                     22   \n",
       "3          92        48                    13                     16   \n",
       "4          81        29                    18                     18   \n",
       "\n",
       "   day_of_week_Wednesday_1       ...        day_of_week_Friday_1  \\\n",
       "0                       29       ...                          23   \n",
       "1                       20       ...                          18   \n",
       "2                       23       ...                          13   \n",
       "3                       21       ...                          18   \n",
       "4                       25       ...                          13   \n",
       "\n",
       "   day_of_week_Saturday_1  day_of_week_Sunday_1  summer_1  spring_1  winter_1  \\\n",
       "0                      21                    14       142         0         0   \n",
       "1                      22                    32       153         0         0   \n",
       "2                      10                    16       121         0         0   \n",
       "3                      26                    23         0         0         0   \n",
       "4                      17                     8         0         0         0   \n",
       "\n",
       "   autum_1  CityRN_FOREIGN_1  CityRN_HOMELESS_1  CityRN_MIAMI_1  \n",
       "0        0                13                 52              77  \n",
       "1        0                14                 43              96  \n",
       "2        0                11                 44              66  \n",
       "3      156                10                 46             100  \n",
       "4      114                 5                 42              67  \n",
       "\n",
       "[5 rows x 21 columns]"
      ]
     },
     "execution_count": 11,
     "metadata": {},
     "output_type": "execute_result"
    }
   ],
   "source": [
    "df = pd.read_csv('Resources/data3_test.csv',parse_dates =[\"Booking_year_month\"])\n",
    "df.head()"
   ]
  },
  {
   "cell_type": "code",
   "execution_count": 12,
   "metadata": {},
   "outputs": [],
   "source": [
    "# Drop innecesary columns\n",
    "df.drop(['Unnamed: 0'], axis=1, inplace=True)\n",
    "df['total_crime']= df['total_crime'].astype(float)"
   ]
  },
  {
   "cell_type": "code",
   "execution_count": 13,
   "metadata": {},
   "outputs": [
    {
     "name": "stdout",
     "output_type": "stream",
     "text": [
      "(47, 2) (47, 1)\n"
     ]
    }
   ],
   "source": [
    "# Assign the data to X and y\n",
    "\n",
    "X = df[[\"CityRN_HOMELESS_1\", \"age26-50_1\"]]\n",
    "y = df[\"total_crime\"].values.reshape(-1, 1)\n",
    "print(X.shape, y.shape)"
   ]
  },
  {
   "cell_type": "code",
   "execution_count": 14,
   "metadata": {},
   "outputs": [],
   "source": [
    "# Use train_test_split to create training and testing data\n",
    "\n",
    "### BEGIN SOLUTION\n",
    "from sklearn.model_selection import train_test_split\n",
    "\n",
    "X_train, X_test, y_train, y_test = train_test_split(X, y, random_state=20)\n",
    "\n",
    "### END SOLUTION"
   ]
  },
  {
   "cell_type": "code",
   "execution_count": 15,
   "metadata": {},
   "outputs": [],
   "source": [
    "# Create the model using LinearRegression\n",
    "\n",
    "### BEGIN SOLUTION\n",
    "from sklearn.linear_model import LinearRegression\n",
    "model = LinearRegression()\n",
    "### END SOLUTION"
   ]
  },
  {
   "cell_type": "code",
   "execution_count": 16,
   "metadata": {},
   "outputs": [
    {
     "name": "stdout",
     "output_type": "stream",
     "text": [
      "Training Score: 0.6204542720020465\n",
      "Testing Score: 0.5241407720491471\n"
     ]
    }
   ],
   "source": [
    "# Fit the model to the training data and calculate the scores for the training and testing data\n",
    "\n",
    "### BEGIN SOLUTION\n",
    "model.fit(X_train, y_train)\n",
    "training_score = model.score(X_train, y_train)\n",
    "testing_score = model.score(X_test, y_test)\n",
    "\n",
    "### END SOLUTION \n",
    "\n",
    "print(f\"Training Score: {training_score}\")\n",
    "print(f\"Testing Score: {testing_score}\")"
   ]
  },
  {
   "cell_type": "code",
   "execution_count": 17,
   "metadata": {},
   "outputs": [
    {
     "data": {
      "text/plain": [
       "Text(0.5, 1.0, 'Residual Plot')"
      ]
     },
     "execution_count": 17,
     "metadata": {},
     "output_type": "execute_result"
    },
    {
     "data": {
      "image/png": "[encoded data removed]",
      "text/plain": [
       "<Figure size 432x288 with 1 Axes>"
      ]
     },
     "metadata": {
      "needs_background": "light"
     },
     "output_type": "display_data"
    }
   ],
   "source": [
    "# Plot the Residuals for the Training and Testing data\n",
    "\n",
    "### BEGIN SOLUTION\n",
    "plt.scatter(model.predict(X_train), model.predict(X_train) - y_train, c=\"blue\", label=\"Training Data\")\n",
    "plt.scatter(model.predict(X_test), model.predict(X_test) - y_test, c=\"orange\", label=\"Testing Data\")\n",
    "plt.legend()\n",
    "plt.hlines(y=0, xmin=y.min(), xmax=y.max())\n",
    "plt.title(\"Residual Plot\")\n",
    "### END SOLUTION"
   ]
  },
  {
   "cell_type": "code",
   "execution_count": null,
   "metadata": {},
   "outputs": [],
   "source": []
  },
  {
   "cell_type": "code",
   "execution_count": null,
   "metadata": {},
   "outputs": [],
   "source": []
  }
 ],
 "metadata": {
  "kernelspec": {
   "display_name": "Python 3",
   "language": "python",
   "name": "python3"
  },
  "language_info": {
   "codemirror_mode": {
    "name": "ipython",
    "version": 3
   },
   "file_extension": ".py",
   "mimetype": "text/x-python",
   "name": "python",
   "nbconvert_exporter": "python",
   "pygments_lexer": "ipython3",
   "version": "3.6.7"
  }
 },
 "nbformat": 4,
 "nbformat_minor": 2
}
